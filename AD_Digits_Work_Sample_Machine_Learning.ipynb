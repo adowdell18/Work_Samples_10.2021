{
  "nbformat": 4,
  "nbformat_minor": 0,
  "metadata": {
    "accelerator": "GPU",
    "colab": {
      "name": "AD Digits Work Sample - Machine Learning",
      "provenance": [],
      "collapsed_sections": [],
      "include_colab_link": true
    },
    "kernelspec": {
      "display_name": "Python 3",
      "name": "python3"
    },
    "language_info": {
      "name": "python"
    },
    "widgets": {
      "application/vnd.jupyter.widget-state+json": {
        "447687ad7ddb4cf09aa77b2c6f2c5867": {
          "model_module": "@jupyter-widgets/controls",
          "model_name": "HBoxModel",
          "model_module_version": "1.5.0",
          "state": {
            "_view_name": "HBoxView",
            "_dom_classes": [],
            "_model_name": "HBoxModel",
            "_view_module": "@jupyter-widgets/controls",
            "_model_module_version": "1.5.0",
            "_view_count": null,
            "_view_module_version": "1.5.0",
            "box_style": "",
            "layout": "IPY_MODEL_328d1d8d91b54bf4b1b0cd72cc5dbd15",
            "_model_module": "@jupyter-widgets/controls",
            "children": [
              "IPY_MODEL_f4d18da9d3e04679a53424a3a768cb2e",
              "IPY_MODEL_6221730907d54f8b88732f62799e877c",
              "IPY_MODEL_0b78f4c13ab94fdf961ed73eed830f53"
            ]
          }
        },
        "328d1d8d91b54bf4b1b0cd72cc5dbd15": {
          "model_module": "@jupyter-widgets/base",
          "model_name": "LayoutModel",
          "model_module_version": "1.2.0",
          "state": {
            "_view_name": "LayoutView",
            "grid_template_rows": null,
            "right": null,
            "justify_content": null,
            "_view_module": "@jupyter-widgets/base",
            "overflow": null,
            "_model_module_version": "1.2.0",
            "_view_count": null,
            "flex_flow": null,
            "width": null,
            "min_width": null,
            "border": null,
            "align_items": null,
            "bottom": null,
            "_model_module": "@jupyter-widgets/base",
            "top": null,
            "grid_column": null,
            "overflow_y": null,
            "overflow_x": null,
            "grid_auto_flow": null,
            "grid_area": null,
            "grid_template_columns": null,
            "flex": null,
            "_model_name": "LayoutModel",
            "justify_items": null,
            "grid_row": null,
            "max_height": null,
            "align_content": null,
            "visibility": null,
            "align_self": null,
            "height": null,
            "min_height": null,
            "padding": null,
            "grid_auto_rows": null,
            "grid_gap": null,
            "max_width": null,
            "order": null,
            "_view_module_version": "1.2.0",
            "grid_template_areas": null,
            "object_position": null,
            "object_fit": null,
            "grid_auto_columns": null,
            "margin": null,
            "display": null,
            "left": null
          }
        },
        "f4d18da9d3e04679a53424a3a768cb2e": {
          "model_module": "@jupyter-widgets/controls",
          "model_name": "HTMLModel",
          "model_module_version": "1.5.0",
          "state": {
            "_view_name": "HTMLView",
            "style": "IPY_MODEL_d62a60836aa84d0bbdb0917573b6171d",
            "_dom_classes": [],
            "description": "",
            "_model_name": "HTMLModel",
            "placeholder": "​",
            "_view_module": "@jupyter-widgets/controls",
            "_model_module_version": "1.5.0",
            "value": "Downloading: ",
            "_view_count": null,
            "_view_module_version": "1.5.0",
            "description_tooltip": null,
            "_model_module": "@jupyter-widgets/controls",
            "layout": "IPY_MODEL_67d1f2e15f084e08b7fa9f14710ac45e"
          }
        },
        "6221730907d54f8b88732f62799e877c": {
          "model_module": "@jupyter-widgets/controls",
          "model_name": "FloatProgressModel",
          "model_module_version": "1.5.0",
          "state": {
            "_view_name": "ProgressView",
            "style": "IPY_MODEL_a4c63509463845beacb9cab7aee85d54",
            "_dom_classes": [],
            "description": "",
            "_model_name": "FloatProgressModel",
            "bar_style": "success",
            "max": 2142,
            "_view_module": "@jupyter-widgets/controls",
            "_model_module_version": "1.5.0",
            "value": 2142,
            "_view_count": null,
            "_view_module_version": "1.5.0",
            "orientation": "horizontal",
            "min": 0,
            "description_tooltip": null,
            "_model_module": "@jupyter-widgets/controls",
            "layout": "IPY_MODEL_da189fdc9cf24255be468802bdea932c"
          }
        },
        "0b78f4c13ab94fdf961ed73eed830f53": {
          "model_module": "@jupyter-widgets/controls",
          "model_name": "HTMLModel",
          "model_module_version": "1.5.0",
          "state": {
            "_view_name": "HTMLView",
            "style": "IPY_MODEL_7666e8711d1d433982cd6c59d267e5ca",
            "_dom_classes": [],
            "description": "",
            "_model_name": "HTMLModel",
            "placeholder": "​",
            "_view_module": "@jupyter-widgets/controls",
            "_model_module_version": "1.5.0",
            "value": " 5.08k/? [00:00&lt;00:00, 79.1kB/s]",
            "_view_count": null,
            "_view_module_version": "1.5.0",
            "description_tooltip": null,
            "_model_module": "@jupyter-widgets/controls",
            "layout": "IPY_MODEL_fbe163d9727b4a188b188e2e7e4cca52"
          }
        },
        "d62a60836aa84d0bbdb0917573b6171d": {
          "model_module": "@jupyter-widgets/controls",
          "model_name": "DescriptionStyleModel",
          "model_module_version": "1.5.0",
          "state": {
            "_view_name": "StyleView",
            "_model_name": "DescriptionStyleModel",
            "description_width": "",
            "_view_module": "@jupyter-widgets/base",
            "_model_module_version": "1.5.0",
            "_view_count": null,
            "_view_module_version": "1.2.0",
            "_model_module": "@jupyter-widgets/controls"
          }
        },
        "67d1f2e15f084e08b7fa9f14710ac45e": {
          "model_module": "@jupyter-widgets/base",
          "model_name": "LayoutModel",
          "model_module_version": "1.2.0",
          "state": {
            "_view_name": "LayoutView",
            "grid_template_rows": null,
            "right": null,
            "justify_content": null,
            "_view_module": "@jupyter-widgets/base",
            "overflow": null,
            "_model_module_version": "1.2.0",
            "_view_count": null,
            "flex_flow": null,
            "width": null,
            "min_width": null,
            "border": null,
            "align_items": null,
            "bottom": null,
            "_model_module": "@jupyter-widgets/base",
            "top": null,
            "grid_column": null,
            "overflow_y": null,
            "overflow_x": null,
            "grid_auto_flow": null,
            "grid_area": null,
            "grid_template_columns": null,
            "flex": null,
            "_model_name": "LayoutModel",
            "justify_items": null,
            "grid_row": null,
            "max_height": null,
            "align_content": null,
            "visibility": null,
            "align_self": null,
            "height": null,
            "min_height": null,
            "padding": null,
            "grid_auto_rows": null,
            "grid_gap": null,
            "max_width": null,
            "order": null,
            "_view_module_version": "1.2.0",
            "grid_template_areas": null,
            "object_position": null,
            "object_fit": null,
            "grid_auto_columns": null,
            "margin": null,
            "display": null,
            "left": null
          }
        },
        "a4c63509463845beacb9cab7aee85d54": {
          "model_module": "@jupyter-widgets/controls",
          "model_name": "ProgressStyleModel",
          "model_module_version": "1.5.0",
          "state": {
            "_view_name": "StyleView",
            "_model_name": "ProgressStyleModel",
            "description_width": "",
            "_view_module": "@jupyter-widgets/base",
            "_model_module_version": "1.5.0",
            "_view_count": null,
            "_view_module_version": "1.2.0",
            "bar_color": null,
            "_model_module": "@jupyter-widgets/controls"
          }
        },
        "da189fdc9cf24255be468802bdea932c": {
          "model_module": "@jupyter-widgets/base",
          "model_name": "LayoutModel",
          "model_module_version": "1.2.0",
          "state": {
            "_view_name": "LayoutView",
            "grid_template_rows": null,
            "right": null,
            "justify_content": null,
            "_view_module": "@jupyter-widgets/base",
            "overflow": null,
            "_model_module_version": "1.2.0",
            "_view_count": null,
            "flex_flow": null,
            "width": null,
            "min_width": null,
            "border": null,
            "align_items": null,
            "bottom": null,
            "_model_module": "@jupyter-widgets/base",
            "top": null,
            "grid_column": null,
            "overflow_y": null,
            "overflow_x": null,
            "grid_auto_flow": null,
            "grid_area": null,
            "grid_template_columns": null,
            "flex": null,
            "_model_name": "LayoutModel",
            "justify_items": null,
            "grid_row": null,
            "max_height": null,
            "align_content": null,
            "visibility": null,
            "align_self": null,
            "height": null,
            "min_height": null,
            "padding": null,
            "grid_auto_rows": null,
            "grid_gap": null,
            "max_width": null,
            "order": null,
            "_view_module_version": "1.2.0",
            "grid_template_areas": null,
            "object_position": null,
            "object_fit": null,
            "grid_auto_columns": null,
            "margin": null,
            "display": null,
            "left": null
          }
        },
        "7666e8711d1d433982cd6c59d267e5ca": {
          "model_module": "@jupyter-widgets/controls",
          "model_name": "DescriptionStyleModel",
          "model_module_version": "1.5.0",
          "state": {
            "_view_name": "StyleView",
            "_model_name": "DescriptionStyleModel",
            "description_width": "",
            "_view_module": "@jupyter-widgets/base",
            "_model_module_version": "1.5.0",
            "_view_count": null,
            "_view_module_version": "1.2.0",
            "_model_module": "@jupyter-widgets/controls"
          }
        },
        "fbe163d9727b4a188b188e2e7e4cca52": {
          "model_module": "@jupyter-widgets/base",
          "model_name": "LayoutModel",
          "model_module_version": "1.2.0",
          "state": {
            "_view_name": "LayoutView",
            "grid_template_rows": null,
            "right": null,
            "justify_content": null,
            "_view_module": "@jupyter-widgets/base",
            "overflow": null,
            "_model_module_version": "1.2.0",
            "_view_count": null,
            "flex_flow": null,
            "width": null,
            "min_width": null,
            "border": null,
            "align_items": null,
            "bottom": null,
            "_model_module": "@jupyter-widgets/base",
            "top": null,
            "grid_column": null,
            "overflow_y": null,
            "overflow_x": null,
            "grid_auto_flow": null,
            "grid_area": null,
            "grid_template_columns": null,
            "flex": null,
            "_model_name": "LayoutModel",
            "justify_items": null,
            "grid_row": null,
            "max_height": null,
            "align_content": null,
            "visibility": null,
            "align_self": null,
            "height": null,
            "min_height": null,
            "padding": null,
            "grid_auto_rows": null,
            "grid_gap": null,
            "max_width": null,
            "order": null,
            "_view_module_version": "1.2.0",
            "grid_template_areas": null,
            "object_position": null,
            "object_fit": null,
            "grid_auto_columns": null,
            "margin": null,
            "display": null,
            "left": null
          }
        },
        "b4694ab671ed4b9a8b50185d0956e0a8": {
          "model_module": "@jupyter-widgets/controls",
          "model_name": "HBoxModel",
          "model_module_version": "1.5.0",
          "state": {
            "_view_name": "HBoxView",
            "_dom_classes": [],
            "_model_name": "HBoxModel",
            "_view_module": "@jupyter-widgets/controls",
            "_model_module_version": "1.5.0",
            "_view_count": null,
            "_view_module_version": "1.5.0",
            "box_style": "",
            "layout": "IPY_MODEL_f8713385381244909346cc6b3901e081",
            "_model_module": "@jupyter-widgets/controls",
            "children": [
              "IPY_MODEL_129ef11d9c804b1ea581fc157a7c0b41",
              "IPY_MODEL_079587c48c8e42dcb8b7bec45f763281",
              "IPY_MODEL_de3d2ef8c0e54a4f919773acb74a82e9"
            ]
          }
        },
        "f8713385381244909346cc6b3901e081": {
          "model_module": "@jupyter-widgets/base",
          "model_name": "LayoutModel",
          "model_module_version": "1.2.0",
          "state": {
            "_view_name": "LayoutView",
            "grid_template_rows": null,
            "right": null,
            "justify_content": null,
            "_view_module": "@jupyter-widgets/base",
            "overflow": null,
            "_model_module_version": "1.2.0",
            "_view_count": null,
            "flex_flow": null,
            "width": null,
            "min_width": null,
            "border": null,
            "align_items": null,
            "bottom": null,
            "_model_module": "@jupyter-widgets/base",
            "top": null,
            "grid_column": null,
            "overflow_y": null,
            "overflow_x": null,
            "grid_auto_flow": null,
            "grid_area": null,
            "grid_template_columns": null,
            "flex": null,
            "_model_name": "LayoutModel",
            "justify_items": null,
            "grid_row": null,
            "max_height": null,
            "align_content": null,
            "visibility": null,
            "align_self": null,
            "height": null,
            "min_height": null,
            "padding": null,
            "grid_auto_rows": null,
            "grid_gap": null,
            "max_width": null,
            "order": null,
            "_view_module_version": "1.2.0",
            "grid_template_areas": null,
            "object_position": null,
            "object_fit": null,
            "grid_auto_columns": null,
            "margin": null,
            "display": null,
            "left": null
          }
        },
        "129ef11d9c804b1ea581fc157a7c0b41": {
          "model_module": "@jupyter-widgets/controls",
          "model_name": "HTMLModel",
          "model_module_version": "1.5.0",
          "state": {
            "_view_name": "HTMLView",
            "style": "IPY_MODEL_a5921b0246b44f2da2caac698dc56c8b",
            "_dom_classes": [],
            "description": "",
            "_model_name": "HTMLModel",
            "placeholder": "​",
            "_view_module": "@jupyter-widgets/controls",
            "_model_module_version": "1.5.0",
            "value": "Downloading: ",
            "_view_count": null,
            "_view_module_version": "1.5.0",
            "description_tooltip": null,
            "_model_module": "@jupyter-widgets/controls",
            "layout": "IPY_MODEL_9b0adfa421cb4165b61ed1ef8cd84021"
          }
        },
        "079587c48c8e42dcb8b7bec45f763281": {
          "model_module": "@jupyter-widgets/controls",
          "model_name": "FloatProgressModel",
          "model_module_version": "1.5.0",
          "state": {
            "_view_name": "ProgressView",
            "style": "IPY_MODEL_81de6d5980cf4d93b34111e5fb7c9368",
            "_dom_classes": [],
            "description": "",
            "_model_name": "FloatProgressModel",
            "bar_style": "success",
            "max": 1288,
            "_view_module": "@jupyter-widgets/controls",
            "_model_module_version": "1.5.0",
            "value": 1288,
            "_view_count": null,
            "_view_module_version": "1.5.0",
            "orientation": "horizontal",
            "min": 0,
            "description_tooltip": null,
            "_model_module": "@jupyter-widgets/controls",
            "layout": "IPY_MODEL_b7536c1166874ebca37844d6b12fefe4"
          }
        },
        "de3d2ef8c0e54a4f919773acb74a82e9": {
          "model_module": "@jupyter-widgets/controls",
          "model_name": "HTMLModel",
          "model_module_version": "1.5.0",
          "state": {
            "_view_name": "HTMLView",
            "style": "IPY_MODEL_99a852426b214c939f3a068a74a6ad39",
            "_dom_classes": [],
            "description": "",
            "_model_name": "HTMLModel",
            "placeholder": "​",
            "_view_module": "@jupyter-widgets/controls",
            "_model_module_version": "1.5.0",
            "value": " 2.49k/? [00:00&lt;00:00, 62.4kB/s]",
            "_view_count": null,
            "_view_module_version": "1.5.0",
            "description_tooltip": null,
            "_model_module": "@jupyter-widgets/controls",
            "layout": "IPY_MODEL_f0c629e67225427082771c2094b06412"
          }
        },
        "a5921b0246b44f2da2caac698dc56c8b": {
          "model_module": "@jupyter-widgets/controls",
          "model_name": "DescriptionStyleModel",
          "model_module_version": "1.5.0",
          "state": {
            "_view_name": "StyleView",
            "_model_name": "DescriptionStyleModel",
            "description_width": "",
            "_view_module": "@jupyter-widgets/base",
            "_model_module_version": "1.5.0",
            "_view_count": null,
            "_view_module_version": "1.2.0",
            "_model_module": "@jupyter-widgets/controls"
          }
        },
        "9b0adfa421cb4165b61ed1ef8cd84021": {
          "model_module": "@jupyter-widgets/base",
          "model_name": "LayoutModel",
          "model_module_version": "1.2.0",
          "state": {
            "_view_name": "LayoutView",
            "grid_template_rows": null,
            "right": null,
            "justify_content": null,
            "_view_module": "@jupyter-widgets/base",
            "overflow": null,
            "_model_module_version": "1.2.0",
            "_view_count": null,
            "flex_flow": null,
            "width": null,
            "min_width": null,
            "border": null,
            "align_items": null,
            "bottom": null,
            "_model_module": "@jupyter-widgets/base",
            "top": null,
            "grid_column": null,
            "overflow_y": null,
            "overflow_x": null,
            "grid_auto_flow": null,
            "grid_area": null,
            "grid_template_columns": null,
            "flex": null,
            "_model_name": "LayoutModel",
            "justify_items": null,
            "grid_row": null,
            "max_height": null,
            "align_content": null,
            "visibility": null,
            "align_self": null,
            "height": null,
            "min_height": null,
            "padding": null,
            "grid_auto_rows": null,
            "grid_gap": null,
            "max_width": null,
            "order": null,
            "_view_module_version": "1.2.0",
            "grid_template_areas": null,
            "object_position": null,
            "object_fit": null,
            "grid_auto_columns": null,
            "margin": null,
            "display": null,
            "left": null
          }
        },
        "81de6d5980cf4d93b34111e5fb7c9368": {
          "model_module": "@jupyter-widgets/controls",
          "model_name": "ProgressStyleModel",
          "model_module_version": "1.5.0",
          "state": {
            "_view_name": "StyleView",
            "_model_name": "ProgressStyleModel",
            "description_width": "",
            "_view_module": "@jupyter-widgets/base",
            "_model_module_version": "1.5.0",
            "_view_count": null,
            "_view_module_version": "1.2.0",
            "bar_color": null,
            "_model_module": "@jupyter-widgets/controls"
          }
        },
        "b7536c1166874ebca37844d6b12fefe4": {
          "model_module": "@jupyter-widgets/base",
          "model_name": "LayoutModel",
          "model_module_version": "1.2.0",
          "state": {
            "_view_name": "LayoutView",
            "grid_template_rows": null,
            "right": null,
            "justify_content": null,
            "_view_module": "@jupyter-widgets/base",
            "overflow": null,
            "_model_module_version": "1.2.0",
            "_view_count": null,
            "flex_flow": null,
            "width": null,
            "min_width": null,
            "border": null,
            "align_items": null,
            "bottom": null,
            "_model_module": "@jupyter-widgets/base",
            "top": null,
            "grid_column": null,
            "overflow_y": null,
            "overflow_x": null,
            "grid_auto_flow": null,
            "grid_area": null,
            "grid_template_columns": null,
            "flex": null,
            "_model_name": "LayoutModel",
            "justify_items": null,
            "grid_row": null,
            "max_height": null,
            "align_content": null,
            "visibility": null,
            "align_self": null,
            "height": null,
            "min_height": null,
            "padding": null,
            "grid_auto_rows": null,
            "grid_gap": null,
            "max_width": null,
            "order": null,
            "_view_module_version": "1.2.0",
            "grid_template_areas": null,
            "object_position": null,
            "object_fit": null,
            "grid_auto_columns": null,
            "margin": null,
            "display": null,
            "left": null
          }
        },
        "99a852426b214c939f3a068a74a6ad39": {
          "model_module": "@jupyter-widgets/controls",
          "model_name": "DescriptionStyleModel",
          "model_module_version": "1.5.0",
          "state": {
            "_view_name": "StyleView",
            "_model_name": "DescriptionStyleModel",
            "description_width": "",
            "_view_module": "@jupyter-widgets/base",
            "_model_module_version": "1.5.0",
            "_view_count": null,
            "_view_module_version": "1.2.0",
            "_model_module": "@jupyter-widgets/controls"
          }
        },
        "f0c629e67225427082771c2094b06412": {
          "model_module": "@jupyter-widgets/base",
          "model_name": "LayoutModel",
          "model_module_version": "1.2.0",
          "state": {
            "_view_name": "LayoutView",
            "grid_template_rows": null,
            "right": null,
            "justify_content": null,
            "_view_module": "@jupyter-widgets/base",
            "overflow": null,
            "_model_module_version": "1.2.0",
            "_view_count": null,
            "flex_flow": null,
            "width": null,
            "min_width": null,
            "border": null,
            "align_items": null,
            "bottom": null,
            "_model_module": "@jupyter-widgets/base",
            "top": null,
            "grid_column": null,
            "overflow_y": null,
            "overflow_x": null,
            "grid_auto_flow": null,
            "grid_area": null,
            "grid_template_columns": null,
            "flex": null,
            "_model_name": "LayoutModel",
            "justify_items": null,
            "grid_row": null,
            "max_height": null,
            "align_content": null,
            "visibility": null,
            "align_self": null,
            "height": null,
            "min_height": null,
            "padding": null,
            "grid_auto_rows": null,
            "grid_gap": null,
            "max_width": null,
            "order": null,
            "_view_module_version": "1.2.0",
            "grid_template_areas": null,
            "object_position": null,
            "object_fit": null,
            "grid_auto_columns": null,
            "margin": null,
            "display": null,
            "left": null
          }
        },
        "b43ee5a765d04cb8b74fced888668d02": {
          "model_module": "@jupyter-widgets/controls",
          "model_name": "HBoxModel",
          "model_module_version": "1.5.0",
          "state": {
            "_view_name": "HBoxView",
            "_dom_classes": [],
            "_model_name": "HBoxModel",
            "_view_module": "@jupyter-widgets/controls",
            "_model_module_version": "1.5.0",
            "_view_count": null,
            "_view_module_version": "1.5.0",
            "box_style": "",
            "layout": "IPY_MODEL_0966bbb2d82c42569cbe0563eaf72abe",
            "_model_module": "@jupyter-widgets/controls",
            "children": [
              "IPY_MODEL_4e51add36f3148c1a07547fea33934a0",
              "IPY_MODEL_cd561f3b3afb439f890bab6523eb8ded",
              "IPY_MODEL_0074a8b458804249aed69cb804c988d4"
            ]
          }
        },
        "0966bbb2d82c42569cbe0563eaf72abe": {
          "model_module": "@jupyter-widgets/base",
          "model_name": "LayoutModel",
          "model_module_version": "1.2.0",
          "state": {
            "_view_name": "LayoutView",
            "grid_template_rows": null,
            "right": null,
            "justify_content": null,
            "_view_module": "@jupyter-widgets/base",
            "overflow": null,
            "_model_module_version": "1.2.0",
            "_view_count": null,
            "flex_flow": null,
            "width": null,
            "min_width": null,
            "border": null,
            "align_items": null,
            "bottom": null,
            "_model_module": "@jupyter-widgets/base",
            "top": null,
            "grid_column": null,
            "overflow_y": null,
            "overflow_x": null,
            "grid_auto_flow": null,
            "grid_area": null,
            "grid_template_columns": null,
            "flex": null,
            "_model_name": "LayoutModel",
            "justify_items": null,
            "grid_row": null,
            "max_height": null,
            "align_content": null,
            "visibility": null,
            "align_self": null,
            "height": null,
            "min_height": null,
            "padding": null,
            "grid_auto_rows": null,
            "grid_gap": null,
            "max_width": null,
            "order": null,
            "_view_module_version": "1.2.0",
            "grid_template_areas": null,
            "object_position": null,
            "object_fit": null,
            "grid_auto_columns": null,
            "margin": null,
            "display": null,
            "left": null
          }
        },
        "4e51add36f3148c1a07547fea33934a0": {
          "model_module": "@jupyter-widgets/controls",
          "model_name": "HTMLModel",
          "model_module_version": "1.5.0",
          "state": {
            "_view_name": "HTMLView",
            "style": "IPY_MODEL_89afd3440fc3477c834e7d206a378874",
            "_dom_classes": [],
            "description": "",
            "_model_name": "HTMLModel",
            "placeholder": "​",
            "_view_module": "@jupyter-widgets/controls",
            "_model_module_version": "1.5.0",
            "value": "Downloading: ",
            "_view_count": null,
            "_view_module_version": "1.5.0",
            "description_tooltip": null,
            "_model_module": "@jupyter-widgets/controls",
            "layout": "IPY_MODEL_8e9fdfca372748bf97592f5ac40f2b7a"
          }
        },
        "cd561f3b3afb439f890bab6523eb8ded": {
          "model_module": "@jupyter-widgets/controls",
          "model_name": "FloatProgressModel",
          "model_module_version": "1.5.0",
          "state": {
            "_view_name": "ProgressView",
            "style": "IPY_MODEL_a3843dc1d14b41c4bb4d79cf595dd8b6",
            "_dom_classes": [],
            "description": "",
            "_model_name": "FloatProgressModel",
            "bar_style": "success",
            "max": 1,
            "_view_module": "@jupyter-widgets/controls",
            "_model_module_version": "1.5.0",
            "value": 1,
            "_view_count": null,
            "_view_module_version": "1.5.0",
            "orientation": "horizontal",
            "min": 0,
            "description_tooltip": null,
            "_model_module": "@jupyter-widgets/controls",
            "layout": "IPY_MODEL_02de168eb7214674bce1e1cb49627c82"
          }
        },
        "0074a8b458804249aed69cb804c988d4": {
          "model_module": "@jupyter-widgets/controls",
          "model_name": "HTMLModel",
          "model_module_version": "1.5.0",
          "state": {
            "_view_name": "HTMLView",
            "style": "IPY_MODEL_44653ab6b61f4b128c1ee046e38c5768",
            "_dom_classes": [],
            "description": "",
            "_model_name": "HTMLModel",
            "placeholder": "​",
            "_view_module": "@jupyter-widgets/controls",
            "_model_module_version": "1.5.0",
            "value": " 68.3M/? [00:01&lt;00:00, 54.2MB/s]",
            "_view_count": null,
            "_view_module_version": "1.5.0",
            "description_tooltip": null,
            "_model_module": "@jupyter-widgets/controls",
            "layout": "IPY_MODEL_7a0f5b3c80c143fd90fda3326a7c7cac"
          }
        },
        "89afd3440fc3477c834e7d206a378874": {
          "model_module": "@jupyter-widgets/controls",
          "model_name": "DescriptionStyleModel",
          "model_module_version": "1.5.0",
          "state": {
            "_view_name": "StyleView",
            "_model_name": "DescriptionStyleModel",
            "description_width": "",
            "_view_module": "@jupyter-widgets/base",
            "_model_module_version": "1.5.0",
            "_view_count": null,
            "_view_module_version": "1.2.0",
            "_model_module": "@jupyter-widgets/controls"
          }
        },
        "8e9fdfca372748bf97592f5ac40f2b7a": {
          "model_module": "@jupyter-widgets/base",
          "model_name": "LayoutModel",
          "model_module_version": "1.2.0",
          "state": {
            "_view_name": "LayoutView",
            "grid_template_rows": null,
            "right": null,
            "justify_content": null,
            "_view_module": "@jupyter-widgets/base",
            "overflow": null,
            "_model_module_version": "1.2.0",
            "_view_count": null,
            "flex_flow": null,
            "width": null,
            "min_width": null,
            "border": null,
            "align_items": null,
            "bottom": null,
            "_model_module": "@jupyter-widgets/base",
            "top": null,
            "grid_column": null,
            "overflow_y": null,
            "overflow_x": null,
            "grid_auto_flow": null,
            "grid_area": null,
            "grid_template_columns": null,
            "flex": null,
            "_model_name": "LayoutModel",
            "justify_items": null,
            "grid_row": null,
            "max_height": null,
            "align_content": null,
            "visibility": null,
            "align_self": null,
            "height": null,
            "min_height": null,
            "padding": null,
            "grid_auto_rows": null,
            "grid_gap": null,
            "max_width": null,
            "order": null,
            "_view_module_version": "1.2.0",
            "grid_template_areas": null,
            "object_position": null,
            "object_fit": null,
            "grid_auto_columns": null,
            "margin": null,
            "display": null,
            "left": null
          }
        },
        "a3843dc1d14b41c4bb4d79cf595dd8b6": {
          "model_module": "@jupyter-widgets/controls",
          "model_name": "ProgressStyleModel",
          "model_module_version": "1.5.0",
          "state": {
            "_view_name": "StyleView",
            "_model_name": "ProgressStyleModel",
            "description_width": "",
            "_view_module": "@jupyter-widgets/base",
            "_model_module_version": "1.5.0",
            "_view_count": null,
            "_view_module_version": "1.2.0",
            "bar_color": null,
            "_model_module": "@jupyter-widgets/controls"
          }
        },
        "02de168eb7214674bce1e1cb49627c82": {
          "model_module": "@jupyter-widgets/base",
          "model_name": "LayoutModel",
          "model_module_version": "1.2.0",
          "state": {
            "_view_name": "LayoutView",
            "grid_template_rows": null,
            "right": null,
            "justify_content": null,
            "_view_module": "@jupyter-widgets/base",
            "overflow": null,
            "_model_module_version": "1.2.0",
            "_view_count": null,
            "flex_flow": null,
            "width": "20px",
            "min_width": null,
            "border": null,
            "align_items": null,
            "bottom": null,
            "_model_module": "@jupyter-widgets/base",
            "top": null,
            "grid_column": null,
            "overflow_y": null,
            "overflow_x": null,
            "grid_auto_flow": null,
            "grid_area": null,
            "grid_template_columns": null,
            "flex": null,
            "_model_name": "LayoutModel",
            "justify_items": null,
            "grid_row": null,
            "max_height": null,
            "align_content": null,
            "visibility": null,
            "align_self": null,
            "height": null,
            "min_height": null,
            "padding": null,
            "grid_auto_rows": null,
            "grid_gap": null,
            "max_width": null,
            "order": null,
            "_view_module_version": "1.2.0",
            "grid_template_areas": null,
            "object_position": null,
            "object_fit": null,
            "grid_auto_columns": null,
            "margin": null,
            "display": null,
            "left": null
          }
        },
        "44653ab6b61f4b128c1ee046e38c5768": {
          "model_module": "@jupyter-widgets/controls",
          "model_name": "DescriptionStyleModel",
          "model_module_version": "1.5.0",
          "state": {
            "_view_name": "StyleView",
            "_model_name": "DescriptionStyleModel",
            "description_width": "",
            "_view_module": "@jupyter-widgets/base",
            "_model_module_version": "1.5.0",
            "_view_count": null,
            "_view_module_version": "1.2.0",
            "_model_module": "@jupyter-widgets/controls"
          }
        },
        "7a0f5b3c80c143fd90fda3326a7c7cac": {
          "model_module": "@jupyter-widgets/base",
          "model_name": "LayoutModel",
          "model_module_version": "1.2.0",
          "state": {
            "_view_name": "LayoutView",
            "grid_template_rows": null,
            "right": null,
            "justify_content": null,
            "_view_module": "@jupyter-widgets/base",
            "overflow": null,
            "_model_module_version": "1.2.0",
            "_view_count": null,
            "flex_flow": null,
            "width": null,
            "min_width": null,
            "border": null,
            "align_items": null,
            "bottom": null,
            "_model_module": "@jupyter-widgets/base",
            "top": null,
            "grid_column": null,
            "overflow_y": null,
            "overflow_x": null,
            "grid_auto_flow": null,
            "grid_area": null,
            "grid_template_columns": null,
            "flex": null,
            "_model_name": "LayoutModel",
            "justify_items": null,
            "grid_row": null,
            "max_height": null,
            "align_content": null,
            "visibility": null,
            "align_self": null,
            "height": null,
            "min_height": null,
            "padding": null,
            "grid_auto_rows": null,
            "grid_gap": null,
            "max_width": null,
            "order": null,
            "_view_module_version": "1.2.0",
            "grid_template_areas": null,
            "object_position": null,
            "object_fit": null,
            "grid_auto_columns": null,
            "margin": null,
            "display": null,
            "left": null
          }
        },
        "a7d9eb3e6af54480acfe4fc7bb633bf3": {
          "model_module": "@jupyter-widgets/controls",
          "model_name": "HBoxModel",
          "model_module_version": "1.5.0",
          "state": {
            "_view_name": "HBoxView",
            "_dom_classes": [],
            "_model_name": "HBoxModel",
            "_view_module": "@jupyter-widgets/controls",
            "_model_module_version": "1.5.0",
            "_view_count": null,
            "_view_module_version": "1.5.0",
            "box_style": "",
            "layout": "IPY_MODEL_af91abedb9e24a4e929a95349f2a495a",
            "_model_module": "@jupyter-widgets/controls",
            "children": [
              "IPY_MODEL_048e15516f1941cb866edf1c66e990d4",
              "IPY_MODEL_f1dc02e54379471ba9e0a76ff962deed",
              "IPY_MODEL_83531ae8f84e42df8acc94ab8ef4748c"
            ]
          }
        },
        "af91abedb9e24a4e929a95349f2a495a": {
          "model_module": "@jupyter-widgets/base",
          "model_name": "LayoutModel",
          "model_module_version": "1.2.0",
          "state": {
            "_view_name": "LayoutView",
            "grid_template_rows": null,
            "right": null,
            "justify_content": null,
            "_view_module": "@jupyter-widgets/base",
            "overflow": null,
            "_model_module_version": "1.2.0",
            "_view_count": null,
            "flex_flow": null,
            "width": null,
            "min_width": null,
            "border": null,
            "align_items": null,
            "bottom": null,
            "_model_module": "@jupyter-widgets/base",
            "top": null,
            "grid_column": null,
            "overflow_y": null,
            "overflow_x": null,
            "grid_auto_flow": null,
            "grid_area": null,
            "grid_template_columns": null,
            "flex": null,
            "_model_name": "LayoutModel",
            "justify_items": null,
            "grid_row": null,
            "max_height": null,
            "align_content": null,
            "visibility": null,
            "align_self": null,
            "height": null,
            "min_height": null,
            "padding": null,
            "grid_auto_rows": null,
            "grid_gap": null,
            "max_width": null,
            "order": null,
            "_view_module_version": "1.2.0",
            "grid_template_areas": null,
            "object_position": null,
            "object_fit": null,
            "grid_auto_columns": null,
            "margin": null,
            "display": null,
            "left": null
          }
        },
        "048e15516f1941cb866edf1c66e990d4": {
          "model_module": "@jupyter-widgets/controls",
          "model_name": "HTMLModel",
          "model_module_version": "1.5.0",
          "state": {
            "_view_name": "HTMLView",
            "style": "IPY_MODEL_24e23c919e3a45faa026b68c6cb88cb9",
            "_dom_classes": [],
            "description": "",
            "_model_name": "HTMLModel",
            "placeholder": "​",
            "_view_module": "@jupyter-widgets/controls",
            "_model_module_version": "1.5.0",
            "value": "",
            "_view_count": null,
            "_view_module_version": "1.5.0",
            "description_tooltip": null,
            "_model_module": "@jupyter-widgets/controls",
            "layout": "IPY_MODEL_7fda27c5c8c14652adeaab8934038d65"
          }
        },
        "f1dc02e54379471ba9e0a76ff962deed": {
          "model_module": "@jupyter-widgets/controls",
          "model_name": "FloatProgressModel",
          "model_module_version": "1.5.0",
          "state": {
            "_view_name": "ProgressView",
            "style": "IPY_MODEL_24bee85e610a4302ad2eb174426f7876",
            "_dom_classes": [],
            "description": "",
            "_model_name": "FloatProgressModel",
            "bar_style": "info",
            "max": 1,
            "_view_module": "@jupyter-widgets/controls",
            "_model_module_version": "1.5.0",
            "value": 1,
            "_view_count": null,
            "_view_module_version": "1.5.0",
            "orientation": "horizontal",
            "min": 0,
            "description_tooltip": null,
            "_model_module": "@jupyter-widgets/controls",
            "layout": "IPY_MODEL_a35e5772681a43f9beb256ac8cd80091"
          }
        },
        "83531ae8f84e42df8acc94ab8ef4748c": {
          "model_module": "@jupyter-widgets/controls",
          "model_name": "HTMLModel",
          "model_module_version": "1.5.0",
          "state": {
            "_view_name": "HTMLView",
            "style": "IPY_MODEL_8924df914a5b4fee9da07260bc4d1591",
            "_dom_classes": [],
            "description": "",
            "_model_name": "HTMLModel",
            "placeholder": "​",
            "_view_module": "@jupyter-widgets/controls",
            "_model_module_version": "1.5.0",
            "value": " 557725/0 [00:23&lt;00:00, 24422.14 examples/s]",
            "_view_count": null,
            "_view_module_version": "1.5.0",
            "description_tooltip": null,
            "_model_module": "@jupyter-widgets/controls",
            "layout": "IPY_MODEL_310a31d9526a438298bcbf54219c3846"
          }
        },
        "24e23c919e3a45faa026b68c6cb88cb9": {
          "model_module": "@jupyter-widgets/controls",
          "model_name": "DescriptionStyleModel",
          "model_module_version": "1.5.0",
          "state": {
            "_view_name": "StyleView",
            "_model_name": "DescriptionStyleModel",
            "description_width": "",
            "_view_module": "@jupyter-widgets/base",
            "_model_module_version": "1.5.0",
            "_view_count": null,
            "_view_module_version": "1.2.0",
            "_model_module": "@jupyter-widgets/controls"
          }
        },
        "7fda27c5c8c14652adeaab8934038d65": {
          "model_module": "@jupyter-widgets/base",
          "model_name": "LayoutModel",
          "model_module_version": "1.2.0",
          "state": {
            "_view_name": "LayoutView",
            "grid_template_rows": null,
            "right": null,
            "justify_content": null,
            "_view_module": "@jupyter-widgets/base",
            "overflow": null,
            "_model_module_version": "1.2.0",
            "_view_count": null,
            "flex_flow": null,
            "width": null,
            "min_width": null,
            "border": null,
            "align_items": null,
            "bottom": null,
            "_model_module": "@jupyter-widgets/base",
            "top": null,
            "grid_column": null,
            "overflow_y": null,
            "overflow_x": null,
            "grid_auto_flow": null,
            "grid_area": null,
            "grid_template_columns": null,
            "flex": null,
            "_model_name": "LayoutModel",
            "justify_items": null,
            "grid_row": null,
            "max_height": null,
            "align_content": null,
            "visibility": null,
            "align_self": null,
            "height": null,
            "min_height": null,
            "padding": null,
            "grid_auto_rows": null,
            "grid_gap": null,
            "max_width": null,
            "order": null,
            "_view_module_version": "1.2.0",
            "grid_template_areas": null,
            "object_position": null,
            "object_fit": null,
            "grid_auto_columns": null,
            "margin": null,
            "display": null,
            "left": null
          }
        },
        "24bee85e610a4302ad2eb174426f7876": {
          "model_module": "@jupyter-widgets/controls",
          "model_name": "ProgressStyleModel",
          "model_module_version": "1.5.0",
          "state": {
            "_view_name": "StyleView",
            "_model_name": "ProgressStyleModel",
            "description_width": "",
            "_view_module": "@jupyter-widgets/base",
            "_model_module_version": "1.5.0",
            "_view_count": null,
            "_view_module_version": "1.2.0",
            "bar_color": null,
            "_model_module": "@jupyter-widgets/controls"
          }
        },
        "a35e5772681a43f9beb256ac8cd80091": {
          "model_module": "@jupyter-widgets/base",
          "model_name": "LayoutModel",
          "model_module_version": "1.2.0",
          "state": {
            "_view_name": "LayoutView",
            "grid_template_rows": null,
            "right": null,
            "justify_content": null,
            "_view_module": "@jupyter-widgets/base",
            "overflow": null,
            "_model_module_version": "1.2.0",
            "_view_count": null,
            "flex_flow": null,
            "width": "20px",
            "min_width": null,
            "border": null,
            "align_items": null,
            "bottom": null,
            "_model_module": "@jupyter-widgets/base",
            "top": null,
            "grid_column": null,
            "overflow_y": null,
            "overflow_x": null,
            "grid_auto_flow": null,
            "grid_area": null,
            "grid_template_columns": null,
            "flex": null,
            "_model_name": "LayoutModel",
            "justify_items": null,
            "grid_row": null,
            "max_height": null,
            "align_content": null,
            "visibility": null,
            "align_self": null,
            "height": null,
            "min_height": null,
            "padding": null,
            "grid_auto_rows": null,
            "grid_gap": null,
            "max_width": null,
            "order": null,
            "_view_module_version": "1.2.0",
            "grid_template_areas": null,
            "object_position": null,
            "object_fit": null,
            "grid_auto_columns": null,
            "margin": null,
            "display": null,
            "left": null
          }
        },
        "8924df914a5b4fee9da07260bc4d1591": {
          "model_module": "@jupyter-widgets/controls",
          "model_name": "DescriptionStyleModel",
          "model_module_version": "1.5.0",
          "state": {
            "_view_name": "StyleView",
            "_model_name": "DescriptionStyleModel",
            "description_width": "",
            "_view_module": "@jupyter-widgets/base",
            "_model_module_version": "1.5.0",
            "_view_count": null,
            "_view_module_version": "1.2.0",
            "_model_module": "@jupyter-widgets/controls"
          }
        },
        "310a31d9526a438298bcbf54219c3846": {
          "model_module": "@jupyter-widgets/base",
          "model_name": "LayoutModel",
          "model_module_version": "1.2.0",
          "state": {
            "_view_name": "LayoutView",
            "grid_template_rows": null,
            "right": null,
            "justify_content": null,
            "_view_module": "@jupyter-widgets/base",
            "overflow": null,
            "_model_module_version": "1.2.0",
            "_view_count": null,
            "flex_flow": null,
            "width": null,
            "min_width": null,
            "border": null,
            "align_items": null,
            "bottom": null,
            "_model_module": "@jupyter-widgets/base",
            "top": null,
            "grid_column": null,
            "overflow_y": null,
            "overflow_x": null,
            "grid_auto_flow": null,
            "grid_area": null,
            "grid_template_columns": null,
            "flex": null,
            "_model_name": "LayoutModel",
            "justify_items": null,
            "grid_row": null,
            "max_height": null,
            "align_content": null,
            "visibility": null,
            "align_self": null,
            "height": null,
            "min_height": null,
            "padding": null,
            "grid_auto_rows": null,
            "grid_gap": null,
            "max_width": null,
            "order": null,
            "_view_module_version": "1.2.0",
            "grid_template_areas": null,
            "object_position": null,
            "object_fit": null,
            "grid_auto_columns": null,
            "margin": null,
            "display": null,
            "left": null
          }
        },
        "43200972d8e145fda08da7a1d0e6245a": {
          "model_module": "@jupyter-widgets/controls",
          "model_name": "HBoxModel",
          "model_module_version": "1.5.0",
          "state": {
            "_view_name": "HBoxView",
            "_dom_classes": [],
            "_model_name": "HBoxModel",
            "_view_module": "@jupyter-widgets/controls",
            "_model_module_version": "1.5.0",
            "_view_count": null,
            "_view_module_version": "1.5.0",
            "box_style": "",
            "layout": "IPY_MODEL_6dcc33dd91f44ed99a0de0021830d1dd",
            "_model_module": "@jupyter-widgets/controls",
            "children": [
              "IPY_MODEL_4ad39b6706d54a1eb4b6631e0a2aad87",
              "IPY_MODEL_e0d1ed9d845f4f218aa1cdf05e359c90",
              "IPY_MODEL_9683a47589e64377a60e573e1882405b"
            ]
          }
        },
        "6dcc33dd91f44ed99a0de0021830d1dd": {
          "model_module": "@jupyter-widgets/base",
          "model_name": "LayoutModel",
          "model_module_version": "1.2.0",
          "state": {
            "_view_name": "LayoutView",
            "grid_template_rows": null,
            "right": null,
            "justify_content": null,
            "_view_module": "@jupyter-widgets/base",
            "overflow": null,
            "_model_module_version": "1.2.0",
            "_view_count": null,
            "flex_flow": null,
            "width": null,
            "min_width": null,
            "border": null,
            "align_items": null,
            "bottom": null,
            "_model_module": "@jupyter-widgets/base",
            "top": null,
            "grid_column": null,
            "overflow_y": null,
            "overflow_x": null,
            "grid_auto_flow": null,
            "grid_area": null,
            "grid_template_columns": null,
            "flex": null,
            "_model_name": "LayoutModel",
            "justify_items": null,
            "grid_row": null,
            "max_height": null,
            "align_content": null,
            "visibility": null,
            "align_self": null,
            "height": null,
            "min_height": null,
            "padding": null,
            "grid_auto_rows": null,
            "grid_gap": null,
            "max_width": null,
            "order": null,
            "_view_module_version": "1.2.0",
            "grid_template_areas": null,
            "object_position": null,
            "object_fit": null,
            "grid_auto_columns": null,
            "margin": null,
            "display": null,
            "left": null
          }
        },
        "4ad39b6706d54a1eb4b6631e0a2aad87": {
          "model_module": "@jupyter-widgets/controls",
          "model_name": "HTMLModel",
          "model_module_version": "1.5.0",
          "state": {
            "_view_name": "HTMLView",
            "style": "IPY_MODEL_1a0966aa1a2647fa981812abd3e59d7a",
            "_dom_classes": [],
            "description": "",
            "_model_name": "HTMLModel",
            "placeholder": "​",
            "_view_module": "@jupyter-widgets/controls",
            "_model_module_version": "1.5.0",
            "value": "",
            "_view_count": null,
            "_view_module_version": "1.5.0",
            "description_tooltip": null,
            "_model_module": "@jupyter-widgets/controls",
            "layout": "IPY_MODEL_ed79f5b88df04594b1486a53aed39a46"
          }
        },
        "e0d1ed9d845f4f218aa1cdf05e359c90": {
          "model_module": "@jupyter-widgets/controls",
          "model_name": "FloatProgressModel",
          "model_module_version": "1.5.0",
          "state": {
            "_view_name": "ProgressView",
            "style": "IPY_MODEL_9f035c87b10540dbb6149489581864c5",
            "_dom_classes": [],
            "description": "",
            "_model_name": "FloatProgressModel",
            "bar_style": "info",
            "max": 1,
            "_view_module": "@jupyter-widgets/controls",
            "_model_module_version": "1.5.0",
            "value": 1,
            "_view_count": null,
            "_view_module_version": "1.5.0",
            "orientation": "horizontal",
            "min": 0,
            "description_tooltip": null,
            "_model_module": "@jupyter-widgets/controls",
            "layout": "IPY_MODEL_f1883b7b15384165b53de44cbd174641"
          }
        },
        "9683a47589e64377a60e573e1882405b": {
          "model_module": "@jupyter-widgets/controls",
          "model_name": "HTMLModel",
          "model_module_version": "1.5.0",
          "state": {
            "_view_name": "HTMLView",
            "style": "IPY_MODEL_4b1851f207a14a089e246298c129c186",
            "_dom_classes": [],
            "description": "",
            "_model_name": "HTMLModel",
            "placeholder": "​",
            "_view_module": "@jupyter-widgets/controls",
            "_model_module_version": "1.5.0",
            "value": " 68211/0 [00:02&lt;00:00, 25310.64 examples/s]",
            "_view_count": null,
            "_view_module_version": "1.5.0",
            "description_tooltip": null,
            "_model_module": "@jupyter-widgets/controls",
            "layout": "IPY_MODEL_7c39c484ebfd44ff86b7c7dcc1c14431"
          }
        },
        "1a0966aa1a2647fa981812abd3e59d7a": {
          "model_module": "@jupyter-widgets/controls",
          "model_name": "DescriptionStyleModel",
          "model_module_version": "1.5.0",
          "state": {
            "_view_name": "StyleView",
            "_model_name": "DescriptionStyleModel",
            "description_width": "",
            "_view_module": "@jupyter-widgets/base",
            "_model_module_version": "1.5.0",
            "_view_count": null,
            "_view_module_version": "1.2.0",
            "_model_module": "@jupyter-widgets/controls"
          }
        },
        "ed79f5b88df04594b1486a53aed39a46": {
          "model_module": "@jupyter-widgets/base",
          "model_name": "LayoutModel",
          "model_module_version": "1.2.0",
          "state": {
            "_view_name": "LayoutView",
            "grid_template_rows": null,
            "right": null,
            "justify_content": null,
            "_view_module": "@jupyter-widgets/base",
            "overflow": null,
            "_model_module_version": "1.2.0",
            "_view_count": null,
            "flex_flow": null,
            "width": null,
            "min_width": null,
            "border": null,
            "align_items": null,
            "bottom": null,
            "_model_module": "@jupyter-widgets/base",
            "top": null,
            "grid_column": null,
            "overflow_y": null,
            "overflow_x": null,
            "grid_auto_flow": null,
            "grid_area": null,
            "grid_template_columns": null,
            "flex": null,
            "_model_name": "LayoutModel",
            "justify_items": null,
            "grid_row": null,
            "max_height": null,
            "align_content": null,
            "visibility": null,
            "align_self": null,
            "height": null,
            "min_height": null,
            "padding": null,
            "grid_auto_rows": null,
            "grid_gap": null,
            "max_width": null,
            "order": null,
            "_view_module_version": "1.2.0",
            "grid_template_areas": null,
            "object_position": null,
            "object_fit": null,
            "grid_auto_columns": null,
            "margin": null,
            "display": null,
            "left": null
          }
        },
        "9f035c87b10540dbb6149489581864c5": {
          "model_module": "@jupyter-widgets/controls",
          "model_name": "ProgressStyleModel",
          "model_module_version": "1.5.0",
          "state": {
            "_view_name": "StyleView",
            "_model_name": "ProgressStyleModel",
            "description_width": "",
            "_view_module": "@jupyter-widgets/base",
            "_model_module_version": "1.5.0",
            "_view_count": null,
            "_view_module_version": "1.2.0",
            "bar_color": null,
            "_model_module": "@jupyter-widgets/controls"
          }
        },
        "f1883b7b15384165b53de44cbd174641": {
          "model_module": "@jupyter-widgets/base",
          "model_name": "LayoutModel",
          "model_module_version": "1.2.0",
          "state": {
            "_view_name": "LayoutView",
            "grid_template_rows": null,
            "right": null,
            "justify_content": null,
            "_view_module": "@jupyter-widgets/base",
            "overflow": null,
            "_model_module_version": "1.2.0",
            "_view_count": null,
            "flex_flow": null,
            "width": "20px",
            "min_width": null,
            "border": null,
            "align_items": null,
            "bottom": null,
            "_model_module": "@jupyter-widgets/base",
            "top": null,
            "grid_column": null,
            "overflow_y": null,
            "overflow_x": null,
            "grid_auto_flow": null,
            "grid_area": null,
            "grid_template_columns": null,
            "flex": null,
            "_model_name": "LayoutModel",
            "justify_items": null,
            "grid_row": null,
            "max_height": null,
            "align_content": null,
            "visibility": null,
            "align_self": null,
            "height": null,
            "min_height": null,
            "padding": null,
            "grid_auto_rows": null,
            "grid_gap": null,
            "max_width": null,
            "order": null,
            "_view_module_version": "1.2.0",
            "grid_template_areas": null,
            "object_position": null,
            "object_fit": null,
            "grid_auto_columns": null,
            "margin": null,
            "display": null,
            "left": null
          }
        },
        "4b1851f207a14a089e246298c129c186": {
          "model_module": "@jupyter-widgets/controls",
          "model_name": "DescriptionStyleModel",
          "model_module_version": "1.5.0",
          "state": {
            "_view_name": "StyleView",
            "_model_name": "DescriptionStyleModel",
            "description_width": "",
            "_view_module": "@jupyter-widgets/base",
            "_model_module_version": "1.5.0",
            "_view_count": null,
            "_view_module_version": "1.2.0",
            "_model_module": "@jupyter-widgets/controls"
          }
        },
        "7c39c484ebfd44ff86b7c7dcc1c14431": {
          "model_module": "@jupyter-widgets/base",
          "model_name": "LayoutModel",
          "model_module_version": "1.2.0",
          "state": {
            "_view_name": "LayoutView",
            "grid_template_rows": null,
            "right": null,
            "justify_content": null,
            "_view_module": "@jupyter-widgets/base",
            "overflow": null,
            "_model_module_version": "1.2.0",
            "_view_count": null,
            "flex_flow": null,
            "width": null,
            "min_width": null,
            "border": null,
            "align_items": null,
            "bottom": null,
            "_model_module": "@jupyter-widgets/base",
            "top": null,
            "grid_column": null,
            "overflow_y": null,
            "overflow_x": null,
            "grid_auto_flow": null,
            "grid_area": null,
            "grid_template_columns": null,
            "flex": null,
            "_model_name": "LayoutModel",
            "justify_items": null,
            "grid_row": null,
            "max_height": null,
            "align_content": null,
            "visibility": null,
            "align_self": null,
            "height": null,
            "min_height": null,
            "padding": null,
            "grid_auto_rows": null,
            "grid_gap": null,
            "max_width": null,
            "order": null,
            "_view_module_version": "1.2.0",
            "grid_template_areas": null,
            "object_position": null,
            "object_fit": null,
            "grid_auto_columns": null,
            "margin": null,
            "display": null,
            "left": null
          }
        }
      }
    }
  },
  "cells": [
    {
      "cell_type": "markdown",
      "metadata": {
        "id": "view-in-github",
        "colab_type": "text"
      },
      "source": [
        "<a href=\"https://colab.research.google.com/github/adowdell18/Work_Samples_10.2021/blob/main/AD_Digits_Work_Sample_Machine_Learning.ipynb\" target=\"_parent\"><img src=\"https://colab.research.google.com/assets/colab-badge.svg\" alt=\"Open In Colab\"/></a>"
      ]
    },
    {
      "cell_type": "markdown",
      "metadata": {
        "id": "WnPqdl1gqH21"
      },
      "source": [
        "# Digits Work Sample - Machine Learning\n",
        "\n",
        "Before you start, please review the attached document with tips regarding the setup, and what to do when you get stuck or when the time is up.\n",
        "\n"
      ]
    },
    {
      "cell_type": "markdown",
      "metadata": {
        "id": "yYI7UB90qgqM"
      },
      "source": [
        "# DBpedia Classification Problem\n",
        "\n",
        "For this work sample, you'll be using the [DBpedia14 dataset](https://huggingface.co/datasets/dbpedia_14). The dataset consists of title, content (both string values) and a label (int) which refers to the label group.\n",
        "\n",
        "The classes are\n",
        "\n",
        "* Company\n",
        "* EducationalInstitution\n",
        "* Artist\n",
        "* Athlete\n",
        "* OfficeHolder\n",
        "* MeanOfTransportation\n",
        "* Building\n",
        "* NaturalPlace\n",
        "* Village\n",
        "* Animal\n",
        "* Plant\n",
        "* Album\n",
        "* Film\n",
        "* WrittenWork\n",
        "\n",
        "Below we have set you up with the initial dataset download and conversion to a Pandas dataframes for the training and test set.\n",
        "\n",
        "The work sample contains 4 tasks which all need to be solved in the context of the datasets.  "
      ]
    },
    {
      "cell_type": "code",
      "metadata": {
        "colab": {
          "base_uri": "https://localhost:8080/"
        },
        "id": "px_dKjIgAeFs",
        "outputId": "b04b8764-e57f-462a-b817-e454583287ef"
      },
      "source": [
        "\n",
        "# Installing required packages\n",
        "!pip install -q --user datasets\n",
        "!pip install datasets\n",
        "!pip install pyLDAvis\n",
        "!pip install pyLDAvis.gensim\n",
        "\n",
        "# Restart the kernel after installation of pip packages"
      ],
      "execution_count": null,
      "outputs": [
        {
          "output_type": "stream",
          "name": "stdout",
          "text": [
            "Requirement already satisfied: datasets in /root/.local/lib/python3.7/site-packages (1.12.1)\n",
            "Requirement already satisfied: pyarrow!=4.0.0,>=1.0.0 in /usr/local/lib/python3.7/dist-packages (from datasets) (3.0.0)\n",
            "Requirement already satisfied: xxhash in /root/.local/lib/python3.7/site-packages (from datasets) (2.0.2)\n",
            "Requirement already satisfied: fsspec[http]>=2021.05.0 in /root/.local/lib/python3.7/site-packages (from datasets) (2021.9.0)\n",
            "Requirement already satisfied: pandas in /usr/local/lib/python3.7/dist-packages (from datasets) (1.3.3)\n",
            "Requirement already satisfied: dill in /usr/local/lib/python3.7/dist-packages (from datasets) (0.3.4)\n",
            "Requirement already satisfied: huggingface-hub<0.1.0,>=0.0.14 in /root/.local/lib/python3.7/site-packages (from datasets) (0.0.17)\n",
            "Requirement already satisfied: numpy>=1.17 in /usr/local/lib/python3.7/dist-packages (from datasets) (1.21.2)\n",
            "Requirement already satisfied: multiprocess in /usr/local/lib/python3.7/dist-packages (from datasets) (0.70.12.2)\n",
            "Requirement already satisfied: packaging in /usr/local/lib/python3.7/dist-packages (from datasets) (21.0)\n",
            "Requirement already satisfied: requests>=2.19.0 in /usr/local/lib/python3.7/dist-packages (from datasets) (2.23.0)\n",
            "Requirement already satisfied: tqdm>=4.62.1 in /usr/local/lib/python3.7/dist-packages (from datasets) (4.62.2)\n",
            "Requirement already satisfied: aiohttp in /root/.local/lib/python3.7/site-packages (from datasets) (3.7.4.post0)\n",
            "Requirement already satisfied: importlib-metadata in /usr/local/lib/python3.7/dist-packages (from datasets) (4.8.1)\n",
            "Requirement already satisfied: filelock in /usr/local/lib/python3.7/dist-packages (from huggingface-hub<0.1.0,>=0.0.14->datasets) (3.0.12)\n",
            "Requirement already satisfied: typing-extensions in /usr/local/lib/python3.7/dist-packages (from huggingface-hub<0.1.0,>=0.0.14->datasets) (3.7.4.3)\n",
            "Requirement already satisfied: pyparsing>=2.0.2 in /usr/local/lib/python3.7/dist-packages (from packaging->datasets) (2.4.7)\n",
            "Requirement already satisfied: certifi>=2017.4.17 in /usr/local/lib/python3.7/dist-packages (from requests>=2.19.0->datasets) (2021.5.30)\n",
            "Requirement already satisfied: idna<3,>=2.5 in /usr/local/lib/python3.7/dist-packages (from requests>=2.19.0->datasets) (2.10)\n",
            "Requirement already satisfied: chardet<4,>=3.0.2 in /usr/local/lib/python3.7/dist-packages (from requests>=2.19.0->datasets) (3.0.4)\n",
            "Requirement already satisfied: urllib3!=1.25.0,!=1.25.1,<1.26,>=1.21.1 in /usr/local/lib/python3.7/dist-packages (from requests>=2.19.0->datasets) (1.24.3)\n",
            "Requirement already satisfied: attrs>=17.3.0 in /usr/local/lib/python3.7/dist-packages (from aiohttp->datasets) (21.2.0)\n",
            "Requirement already satisfied: async-timeout<4.0,>=3.0 in /root/.local/lib/python3.7/site-packages (from aiohttp->datasets) (3.0.1)\n",
            "Requirement already satisfied: multidict<7.0,>=4.5 in /root/.local/lib/python3.7/site-packages (from aiohttp->datasets) (5.1.0)\n",
            "Requirement already satisfied: yarl<2.0,>=1.0 in /root/.local/lib/python3.7/site-packages (from aiohttp->datasets) (1.6.3)\n",
            "Requirement already satisfied: zipp>=0.5 in /usr/local/lib/python3.7/dist-packages (from importlib-metadata->datasets) (3.5.0)\n",
            "Requirement already satisfied: pytz>=2017.3 in /usr/local/lib/python3.7/dist-packages (from pandas->datasets) (2018.9)\n",
            "Requirement already satisfied: python-dateutil>=2.7.3 in /usr/local/lib/python3.7/dist-packages (from pandas->datasets) (2.8.2)\n",
            "Requirement already satisfied: six>=1.5 in /usr/local/lib/python3.7/dist-packages (from python-dateutil>=2.7.3->pandas->datasets) (1.15.0)\n",
            "Requirement already satisfied: pyLDAvis in /usr/local/lib/python3.7/dist-packages (3.3.1)\n",
            "Requirement already satisfied: jinja2 in /usr/local/lib/python3.7/dist-packages (from pyLDAvis) (2.11.3)\n",
            "Requirement already satisfied: gensim in /usr/local/lib/python3.7/dist-packages (from pyLDAvis) (3.6.0)\n",
            "Requirement already satisfied: setuptools in /usr/local/lib/python3.7/dist-packages (from pyLDAvis) (57.4.0)\n",
            "Requirement already satisfied: future in /usr/local/lib/python3.7/dist-packages (from pyLDAvis) (0.16.0)\n",
            "Requirement already satisfied: funcy in /usr/local/lib/python3.7/dist-packages (from pyLDAvis) (1.16)\n",
            "Requirement already satisfied: sklearn in /usr/local/lib/python3.7/dist-packages (from pyLDAvis) (0.0)\n",
            "Requirement already satisfied: pandas>=1.2.0 in /usr/local/lib/python3.7/dist-packages (from pyLDAvis) (1.3.3)\n",
            "Requirement already satisfied: scipy in /usr/local/lib/python3.7/dist-packages (from pyLDAvis) (1.4.1)\n",
            "Requirement already satisfied: joblib in /usr/local/lib/python3.7/dist-packages (from pyLDAvis) (1.0.1)\n",
            "Requirement already satisfied: numpy>=1.20.0 in /usr/local/lib/python3.7/dist-packages (from pyLDAvis) (1.21.2)\n",
            "Requirement already satisfied: numexpr in /usr/local/lib/python3.7/dist-packages (from pyLDAvis) (2.7.3)\n",
            "Requirement already satisfied: scikit-learn in /usr/local/lib/python3.7/dist-packages (from pyLDAvis) (0.22.2.post1)\n",
            "Requirement already satisfied: pytz>=2017.3 in /usr/local/lib/python3.7/dist-packages (from pandas>=1.2.0->pyLDAvis) (2018.9)\n",
            "Requirement already satisfied: python-dateutil>=2.7.3 in /usr/local/lib/python3.7/dist-packages (from pandas>=1.2.0->pyLDAvis) (2.8.2)\n",
            "Requirement already satisfied: six>=1.5 in /usr/local/lib/python3.7/dist-packages (from python-dateutil>=2.7.3->pandas>=1.2.0->pyLDAvis) (1.15.0)\n",
            "Requirement already satisfied: smart-open>=1.2.1 in /usr/local/lib/python3.7/dist-packages (from gensim->pyLDAvis) (5.2.1)\n",
            "Requirement already satisfied: MarkupSafe>=0.23 in /usr/local/lib/python3.7/dist-packages (from jinja2->pyLDAvis) (2.0.1)\n",
            "\u001b[31mERROR: Could not find a version that satisfies the requirement pyLDAvis.gensim (from versions: none)\u001b[0m\n",
            "\u001b[31mERROR: No matching distribution found for pyLDAvis.gensim\u001b[0m\n"
          ]
        }
      ]
    },
    {
      "cell_type": "code",
      "metadata": {
        "id": "DE4f1zEuTwTY"
      },
      "source": [
        "import datasets\n",
        "from datasets import load_dataset\n",
        "from sklearn.datasets  import fetch_20newsgroups\n",
        "from sklearn.feature_extraction.text import CountVectorizer\n",
        "from sklearn.decomposition import LatentDirichletAllocation"
      ],
      "execution_count": null,
      "outputs": []
    },
    {
      "cell_type": "code",
      "metadata": {
        "id": "wVYSaVZOThgU"
      },
      "source": [
        "import pyLDAvis\n",
        "import pyLDAvis.sklearn\n",
        "pyLDAvis.enable_notebook()"
      ],
      "execution_count": null,
      "outputs": []
    },
    {
      "cell_type": "code",
      "metadata": {
        "colab": {
          "base_uri": "https://localhost:8080/"
        },
        "id": "SAdkVpH8TotC",
        "outputId": "cd56b5af-110c-4333-be2a-48a446d91c8b"
      },
      "source": [
        "import pandas as pd\n",
        "import numpy as np\n",
        "import matplotlib\n",
        "import glob\n",
        "import nltk\n",
        "import spacy\n",
        "import random\n",
        "import gensim\n",
        "import pyLDAvis.gensim_models\n",
        "import itertools\n",
        "spacy.load('en')\n",
        "from spacy.lang.en import English\n",
        "from textblob import TextBlob\n",
        "from sklearn.feature_extraction.text import CountVectorizer\n",
        "from sklearn.feature_extraction.text import TfidfVectorizer\n",
        "import warnings\n",
        "warnings.filterwarnings('ignore')\n",
        "import matplotlib\n",
        "import matplotlib.pyplot as plt\n",
        "import seaborn as sns\n",
        "import sys\n",
        "import cufflinks\n",
        "import pickle\n",
        "pd.options.display.max_columns = 30\n",
        "from IPython.core.interactiveshell import InteractiveShell\n",
        "import plotly.figure_factory as ff\n",
        "InteractiveShell.ast_node_interactivity = 'all'\n",
        "from plotly.offline import iplot\n",
        "from sklearn.decomposition import TruncatedSVD\n",
        "from sklearn.decomposition import LatentDirichletAllocation\n",
        "from sklearn.manifold import TSNE\n",
        "from collections import Counter\n",
        "from nltk.stem.wordnet import WordNetLemmatizer\n",
        "\n",
        "\n",
        "\n"
      ],
      "execution_count": null,
      "outputs": [
        {
          "output_type": "execute_result",
          "data": {
            "text/plain": [
              "<spacy.lang.en.English at 0x7f69ed0bad50>"
            ]
          },
          "metadata": {},
          "execution_count": 39
        }
      ]
    },
    {
      "cell_type": "code",
      "metadata": {
        "id": "_MYSKmLS0HvG"
      },
      "source": [
        "from datasets import load_dataset\n",
        "from __future__ import print_function\n",
        "from gensim import corpora"
      ],
      "execution_count": null,
      "outputs": []
    },
    {
      "cell_type": "code",
      "metadata": {
        "id": "uu3j98_8T0fP"
      },
      "source": [
        "%matplotlib inline\n",
        "matplotlib.rcParams['figure.figsize'] = (10.0, 10.0)"
      ],
      "execution_count": null,
      "outputs": []
    },
    {
      "cell_type": "code",
      "metadata": {
        "colab": {
          "base_uri": "https://localhost:8080/"
        },
        "id": "20ppQCh4T7rn",
        "outputId": "2ff8c620-6cab-4fe3-964b-2443a683b9f9"
      },
      "source": [
        "parser = English()\n",
        "spacy.load('en')\n",
        "nltk.download('wordnet')\n",
        "nltk.download('punkt')\n"
      ],
      "execution_count": null,
      "outputs": [
        {
          "output_type": "execute_result",
          "data": {
            "text/plain": [
              "<spacy.lang.en.English at 0x7f6a1cdefe10>"
            ]
          },
          "metadata": {},
          "execution_count": 7
        },
        {
          "output_type": "stream",
          "name": "stdout",
          "text": [
            "[nltk_data] Downloading package wordnet to /root/nltk_data...\n",
            "[nltk_data]   Unzipping corpora/wordnet.zip.\n"
          ]
        },
        {
          "output_type": "execute_result",
          "data": {
            "text/plain": [
              "True"
            ]
          },
          "metadata": {},
          "execution_count": 7
        },
        {
          "output_type": "stream",
          "name": "stdout",
          "text": [
            "[nltk_data] Downloading package punkt to /root/nltk_data...\n",
            "[nltk_data]   Unzipping tokenizers/punkt.zip.\n"
          ]
        },
        {
          "output_type": "execute_result",
          "data": {
            "text/plain": [
              "True"
            ]
          },
          "metadata": {},
          "execution_count": 7
        }
      ]
    },
    {
      "cell_type": "code",
      "metadata": {
        "colab": {
          "base_uri": "https://localhost:8080/",
          "height": 184,
          "referenced_widgets": [
            "447687ad7ddb4cf09aa77b2c6f2c5867",
            "328d1d8d91b54bf4b1b0cd72cc5dbd15",
            "f4d18da9d3e04679a53424a3a768cb2e",
            "6221730907d54f8b88732f62799e877c",
            "0b78f4c13ab94fdf961ed73eed830f53",
            "d62a60836aa84d0bbdb0917573b6171d",
            "67d1f2e15f084e08b7fa9f14710ac45e",
            "a4c63509463845beacb9cab7aee85d54",
            "da189fdc9cf24255be468802bdea932c",
            "7666e8711d1d433982cd6c59d267e5ca",
            "fbe163d9727b4a188b188e2e7e4cca52",
            "b4694ab671ed4b9a8b50185d0956e0a8",
            "f8713385381244909346cc6b3901e081",
            "129ef11d9c804b1ea581fc157a7c0b41",
            "079587c48c8e42dcb8b7bec45f763281",
            "de3d2ef8c0e54a4f919773acb74a82e9",
            "a5921b0246b44f2da2caac698dc56c8b",
            "9b0adfa421cb4165b61ed1ef8cd84021",
            "81de6d5980cf4d93b34111e5fb7c9368",
            "b7536c1166874ebca37844d6b12fefe4",
            "99a852426b214c939f3a068a74a6ad39",
            "f0c629e67225427082771c2094b06412",
            "b43ee5a765d04cb8b74fced888668d02",
            "0966bbb2d82c42569cbe0563eaf72abe",
            "4e51add36f3148c1a07547fea33934a0",
            "cd561f3b3afb439f890bab6523eb8ded",
            "0074a8b458804249aed69cb804c988d4",
            "89afd3440fc3477c834e7d206a378874",
            "8e9fdfca372748bf97592f5ac40f2b7a",
            "a3843dc1d14b41c4bb4d79cf595dd8b6",
            "02de168eb7214674bce1e1cb49627c82",
            "44653ab6b61f4b128c1ee046e38c5768",
            "7a0f5b3c80c143fd90fda3326a7c7cac",
            "a7d9eb3e6af54480acfe4fc7bb633bf3",
            "af91abedb9e24a4e929a95349f2a495a",
            "048e15516f1941cb866edf1c66e990d4",
            "f1dc02e54379471ba9e0a76ff962deed",
            "83531ae8f84e42df8acc94ab8ef4748c",
            "24e23c919e3a45faa026b68c6cb88cb9",
            "7fda27c5c8c14652adeaab8934038d65",
            "24bee85e610a4302ad2eb174426f7876",
            "a35e5772681a43f9beb256ac8cd80091",
            "8924df914a5b4fee9da07260bc4d1591",
            "310a31d9526a438298bcbf54219c3846",
            "43200972d8e145fda08da7a1d0e6245a",
            "6dcc33dd91f44ed99a0de0021830d1dd",
            "4ad39b6706d54a1eb4b6631e0a2aad87",
            "e0d1ed9d845f4f218aa1cdf05e359c90",
            "9683a47589e64377a60e573e1882405b",
            "1a0966aa1a2647fa981812abd3e59d7a",
            "ed79f5b88df04594b1486a53aed39a46",
            "9f035c87b10540dbb6149489581864c5",
            "f1883b7b15384165b53de44cbd174641",
            "4b1851f207a14a089e246298c129c186",
            "7c39c484ebfd44ff86b7c7dcc1c14431"
          ]
        },
        "id": "YNtj5tif0Jm5",
        "outputId": "e0a38876-9d89-472e-f1d3-14e1c188b69c"
      },
      "source": [
        "df_train = load_dataset('dbpedia_14', split='train').to_pandas()\n",
        "df_test = load_dataset('dbpedia_14', split='test').to_pandas()"
      ],
      "execution_count": null,
      "outputs": [
        {
          "output_type": "display_data",
          "data": {
            "application/vnd.jupyter.widget-view+json": {
              "model_id": "447687ad7ddb4cf09aa77b2c6f2c5867",
              "version_minor": 0,
              "version_major": 2
            },
            "text/plain": [
              "Downloading:   0%|          | 0.00/2.14k [00:00<?, ?B/s]"
            ]
          },
          "metadata": {}
        },
        {
          "output_type": "display_data",
          "data": {
            "application/vnd.jupyter.widget-view+json": {
              "model_id": "b4694ab671ed4b9a8b50185d0956e0a8",
              "version_minor": 0,
              "version_major": 2
            },
            "text/plain": [
              "Downloading:   0%|          | 0.00/1.29k [00:00<?, ?B/s]"
            ]
          },
          "metadata": {}
        },
        {
          "output_type": "stream",
          "name": "stdout",
          "text": [
            "Downloading and preparing dataset d_bpedia14/dbpedia_14 (download: 65.18 MiB, generated: 191.44 MiB, post-processed: Unknown size, total: 256.62 MiB) to /root/.cache/huggingface/datasets/d_bpedia14/dbpedia_14/2.0.0/7f0577ea0f4397b6b89bfe5c5f2c6b1b420990a1fc5e8538c7ab4ec40e46fa3e...\n"
          ]
        },
        {
          "output_type": "display_data",
          "data": {
            "application/vnd.jupyter.widget-view+json": {
              "model_id": "b43ee5a765d04cb8b74fced888668d02",
              "version_minor": 0,
              "version_major": 2
            },
            "text/plain": [
              "Downloading: 0.00B [00:00, ?B/s]"
            ]
          },
          "metadata": {}
        },
        {
          "output_type": "display_data",
          "data": {
            "application/vnd.jupyter.widget-view+json": {
              "model_id": "a7d9eb3e6af54480acfe4fc7bb633bf3",
              "version_minor": 0,
              "version_major": 2
            },
            "text/plain": [
              "0 examples [00:00, ? examples/s]"
            ]
          },
          "metadata": {}
        },
        {
          "output_type": "display_data",
          "data": {
            "application/vnd.jupyter.widget-view+json": {
              "model_id": "43200972d8e145fda08da7a1d0e6245a",
              "version_minor": 0,
              "version_major": 2
            },
            "text/plain": [
              "0 examples [00:00, ? examples/s]"
            ]
          },
          "metadata": {}
        },
        {
          "output_type": "stream",
          "name": "stdout",
          "text": [
            "Dataset d_bpedia14 downloaded and prepared to /root/.cache/huggingface/datasets/d_bpedia14/dbpedia_14/2.0.0/7f0577ea0f4397b6b89bfe5c5f2c6b1b420990a1fc5e8538c7ab4ec40e46fa3e. Subsequent calls will reuse this data.\n"
          ]
        },
        {
          "output_type": "stream",
          "name": "stderr",
          "text": [
            "Reusing dataset d_bpedia14 (/root/.cache/huggingface/datasets/d_bpedia14/dbpedia_14/2.0.0/7f0577ea0f4397b6b89bfe5c5f2c6b1b420990a1fc5e8538c7ab4ec40e46fa3e)\n"
          ]
        }
      ]
    },
    {
      "cell_type": "code",
      "metadata": {
        "colab": {
          "base_uri": "https://localhost:8080/",
          "height": 204
        },
        "id": "JB2x2-aDYcQ-",
        "outputId": "91c7e7d5-b911-4d68-a456-14c2d2842f20"
      },
      "source": [
        "df_test.head()"
      ],
      "execution_count": null,
      "outputs": [
        {
          "output_type": "execute_result",
          "data": {
            "text/html": [
              "<div>\n",
              "<style scoped>\n",
              "    .dataframe tbody tr th:only-of-type {\n",
              "        vertical-align: middle;\n",
              "    }\n",
              "\n",
              "    .dataframe tbody tr th {\n",
              "        vertical-align: top;\n",
              "    }\n",
              "\n",
              "    .dataframe thead th {\n",
              "        text-align: right;\n",
              "    }\n",
              "</style>\n",
              "<table border=\"1\" class=\"dataframe\">\n",
              "  <thead>\n",
              "    <tr style=\"text-align: right;\">\n",
              "      <th></th>\n",
              "      <th>label</th>\n",
              "      <th>title</th>\n",
              "      <th>content</th>\n",
              "    </tr>\n",
              "  </thead>\n",
              "  <tbody>\n",
              "    <tr>\n",
              "      <th>0</th>\n",
              "      <td>0</td>\n",
              "      <td>TY KU</td>\n",
              "      <td>TY KU /taɪkuː/ is an American alcoholic bever...</td>\n",
              "    </tr>\n",
              "    <tr>\n",
              "      <th>1</th>\n",
              "      <td>0</td>\n",
              "      <td>Odd Lot Entertainment</td>\n",
              "      <td>OddLot Entertainment founded in 2001 by longt...</td>\n",
              "    </tr>\n",
              "    <tr>\n",
              "      <th>2</th>\n",
              "      <td>0</td>\n",
              "      <td>Henkel</td>\n",
              "      <td>Henkel AG &amp; Company KGaA operates worldwide w...</td>\n",
              "    </tr>\n",
              "    <tr>\n",
              "      <th>3</th>\n",
              "      <td>0</td>\n",
              "      <td>GOAT Store</td>\n",
              "      <td>The GOAT Store (Games Of All Type Store) LLC ...</td>\n",
              "    </tr>\n",
              "    <tr>\n",
              "      <th>4</th>\n",
              "      <td>0</td>\n",
              "      <td>RagWing Aircraft Designs</td>\n",
              "      <td>RagWing Aircraft Designs (also called the Rag...</td>\n",
              "    </tr>\n",
              "  </tbody>\n",
              "</table>\n",
              "</div>"
            ],
            "text/plain": [
              "   label                     title  \\\n",
              "0      0                     TY KU   \n",
              "1      0     Odd Lot Entertainment   \n",
              "2      0                    Henkel   \n",
              "3      0                GOAT Store   \n",
              "4      0  RagWing Aircraft Designs   \n",
              "\n",
              "                                             content  \n",
              "0   TY KU /taɪkuː/ is an American alcoholic bever...  \n",
              "1   OddLot Entertainment founded in 2001 by longt...  \n",
              "2   Henkel AG & Company KGaA operates worldwide w...  \n",
              "3   The GOAT Store (Games Of All Type Store) LLC ...  \n",
              "4   RagWing Aircraft Designs (also called the Rag...  "
            ]
          },
          "metadata": {},
          "execution_count": 9
        }
      ]
    },
    {
      "cell_type": "code",
      "metadata": {
        "id": "bhq28fp-UKme"
      },
      "source": [
        "\n",
        "def get_lemma(word):\n",
        "  lemma = wn.morphy(word)\n",
        "  if lemma is None:\n",
        "    return word\n",
        "  else:\n",
        "    return lemma\n",
        "\n"
      ],
      "execution_count": null,
      "outputs": []
    },
    {
      "cell_type": "code",
      "metadata": {
        "id": "_HRVkk-vUPI_"
      },
      "source": [
        "def get_lemma2(word):\n",
        "  return WordNetLemmatizer().lemmatize(word)"
      ],
      "execution_count": null,
      "outputs": []
    },
    {
      "cell_type": "code",
      "metadata": {
        "colab": {
          "base_uri": "https://localhost:8080/"
        },
        "id": "GlwVRdekUU_t",
        "outputId": "920bc89f-68e2-4a18-d895-4064b5874870"
      },
      "source": [
        "\n",
        "nltk.download('stopwords')\n",
        "en_stop = set(nltk.corpus.stopwords.words('english'))\n",
        "parser = English()"
      ],
      "execution_count": null,
      "outputs": [
        {
          "output_type": "stream",
          "name": "stdout",
          "text": [
            "[nltk_data] Downloading package stopwords to /root/nltk_data...\n",
            "[nltk_data]   Unzipping corpora/stopwords.zip.\n"
          ]
        },
        {
          "output_type": "execute_result",
          "data": {
            "text/plain": [
              "True"
            ]
          },
          "metadata": {},
          "execution_count": 12
        }
      ]
    },
    {
      "cell_type": "code",
      "metadata": {
        "id": "38HJIcfGUP_c"
      },
      "source": [
        "def prepare_text_for_lda(text):\n",
        "  #print(\":)\")\n",
        "  #print(text)\n",
        "  tokens = tokenize(text)\n",
        "  tokens = [token for token in tokens if len(token) > 4]\n",
        "  tokens = [token for token in tokens if token not in en_stop]\n",
        "  #print(tokens)\n",
        "  return tokens"
      ],
      "execution_count": null,
      "outputs": []
    },
    {
      "cell_type": "code",
      "metadata": {
        "colab": {
          "base_uri": "https://localhost:8080/",
          "height": 69
        },
        "id": "q2WmKjvD2Gnw",
        "outputId": "933f05b0-9641-4b91-8185-667f84d1657c"
      },
      "source": [
        "'''\n",
        "def prepare_text_for_lda(tokens):\n",
        "  #print(\":)\")\n",
        "  #print(text)\n",
        "  #tokens = tokenize(text)\n",
        "  tokens = [token for token in tokens if len(token) > 4]\n",
        "  tokens = [token for token in tokens if token not in en_stop]\n",
        "  #print(tokens)\n",
        "  return tokens'''"
      ],
      "execution_count": null,
      "outputs": [
        {
          "output_type": "execute_result",
          "data": {
            "application/vnd.google.colaboratory.intrinsic+json": {
              "type": "string"
            },
            "text/plain": [
              "'\\ndef prepare_text_for_lda(tokens):\\n  #print(\":)\")\\n  #print(text)\\n  #tokens = tokenize(text)\\n  tokens = [token for token in tokens if len(token) > 4]\\n  tokens = [token for token in tokens if token not in en_stop]\\n  #print(tokens)\\n  return tokens'"
            ]
          },
          "metadata": {},
          "execution_count": 14
        }
      ]
    },
    {
      "cell_type": "code",
      "metadata": {
        "id": "p8KgQp2RU4Vd"
      },
      "source": [
        "def tokenize(text):\n",
        "  lda_tokens = []\n",
        "  tokens = parser(text)\n",
        "  for token in tokens:\n",
        "    if token.orth_.isspace():\n",
        "      continue\n",
        "    elif token.like_url:\n",
        "      lda_tokens.append('URL')\n",
        "    elif token.orth_.startswith('@'):\n",
        "      lda_tokens.append('SCREEN_NAME')\n",
        "    else:\n",
        "      lda_tokens.append(token.lower_)\n",
        "    return lda_tokens"
      ],
      "execution_count": null,
      "outputs": []
    },
    {
      "cell_type": "code",
      "metadata": {
        "colab": {
          "base_uri": "https://localhost:8080/",
          "height": 69
        },
        "id": "ODZ7oQCFW_9T",
        "outputId": "bc02cdd2-f0a2-43f9-9747-e01f76d87fc5"
      },
      "source": [
        "'''\n",
        "def tokenize_content_column():\n",
        "  text_data = []\n",
        "  for index, row in df_train.iterrows():\n",
        "    print(str(row[2]))\n",
        "    if random.random() > 0.99:\n",
        "      tokens = prepare_text_for_lda(str(row[2]))\n",
        "      text_data.append(tokens)\n",
        "  return text_data'''\n",
        "\n"
      ],
      "execution_count": null,
      "outputs": [
        {
          "output_type": "execute_result",
          "data": {
            "application/vnd.google.colaboratory.intrinsic+json": {
              "type": "string"
            },
            "text/plain": [
              "'\\ndef tokenize_content_column():\\n  text_data = []\\n  for index, row in df_train.iterrows():\\n    print(str(row[2]))\\n    if random.random() > 0.99:\\n      tokens = prepare_text_for_lda(str(row[2]))\\n      text_data.append(tokens)\\n  return text_data'"
            ]
          },
          "metadata": {},
          "execution_count": 16
        }
      ]
    },
    {
      "cell_type": "code",
      "metadata": {
        "id": "35QwLrEGgTzH"
      },
      "source": [
        "def tokenize_content_column():\n",
        "  #df_train.apply(lambda x: print(\"{} - {}\".format(x['title'], x['content'])), axis = 1)\n",
        "  token_data = []\n",
        "  df = df_train\n",
        "  df['tokenized_sents'] = df_train.apply(lambda row: nltk.word_tokenize(row['content']), axis = 1)\n",
        "  #print(token_data)\n",
        "  return df\n"
      ],
      "execution_count": null,
      "outputs": []
    },
    {
      "cell_type": "code",
      "metadata": {
        "id": "-CYj8EXv36iv"
      },
      "source": [
        ""
      ],
      "execution_count": null,
      "outputs": []
    },
    {
      "cell_type": "code",
      "metadata": {
        "id": "t3TBIq-qZq8V"
      },
      "source": [
        "#df_tokenized = tokenize_content_column()"
      ],
      "execution_count": null,
      "outputs": []
    },
    {
      "cell_type": "code",
      "metadata": {
        "id": "QEEf2u4D3-6f"
      },
      "source": [
        "def prepare_tokenized_column():\n",
        "  #df_train.apply(lambda x: print(\"{} - {}\".format(x['title'], x['content'])), axis = 1)\n",
        "  token_data = []\n",
        "  df = df_train\n",
        "  df['tokenized_sents'] = df.apply(lambda row: prepare_text_for_lda(row['content'][0:5000]), axis = 1)\n",
        "  #print(token_data)\n",
        "  return df\n"
      ],
      "execution_count": null,
      "outputs": []
    },
    {
      "cell_type": "code",
      "metadata": {
        "id": "7d1bYX_H4pif"
      },
      "source": [
        "df_tokenized = prepare_tokenized_column()"
      ],
      "execution_count": null,
      "outputs": []
    },
    {
      "cell_type": "code",
      "metadata": {
        "id": "XzHVOVnl3ocn"
      },
      "source": [
        "text_data = df_tokenized['tokenized_sents'].to_list()"
      ],
      "execution_count": null,
      "outputs": []
    },
    {
      "cell_type": "code",
      "metadata": {
        "id": "68X_kCbB0NYo"
      },
      "source": [
        "dictionary = corpora.Dictionary(text_data)"
      ],
      "execution_count": null,
      "outputs": []
    },
    {
      "cell_type": "code",
      "metadata": {
        "id": "5ccDlw32L94Y",
        "colab": {
          "base_uri": "https://localhost:8080/"
        },
        "outputId": "ae121dc7-2d80-4e7a-a2d3-13e0a15549af"
      },
      "source": [
        "dictionary"
      ],
      "execution_count": null,
      "outputs": [
        {
          "output_type": "execute_result",
          "data": {
            "text/plain": [
              "<gensim.corpora.dictionary.Dictionary at 0x7f69f18199d0>"
            ]
          },
          "metadata": {},
          "execution_count": 23
        }
      ]
    },
    {
      "cell_type": "code",
      "metadata": {
        "id": "Ik3bRSzbMyhq"
      },
      "source": [
        "corpus = [dictionary.doc2bow(text) for text in text_data]"
      ],
      "execution_count": null,
      "outputs": []
    },
    {
      "cell_type": "code",
      "metadata": {
        "id": "HRmKezE2NA49"
      },
      "source": [
        "#FIXME save to a specific folder  within directory\n",
        "pickle.dump(corpus, open('corpus1.pkl', 'wb'))\n",
        "dictionary.save('dictionary.gensim') "
      ],
      "execution_count": null,
      "outputs": []
    },
    {
      "cell_type": "code",
      "metadata": {
        "id": "Lajady44NMb-"
      },
      "source": [
        "# 9.23.2021 at 8:41PM EST -ad\n",
        "#FixMe apply EDA to only a smaller subset of training data based upon Cronbach alpha sampling and threshold recommendations\n",
        "# this logic is taking over 10 minutes to run due the size of the current sample \n",
        "# GOOGLE COLAB LIMITS REACHED during this iteration; restart notebook at this checkpoint\n",
        "\n",
        "NUM_TOPICS = 5\n",
        "ldamodel = gensim.models.ldamodel.LdaModel(corpus, num_topics = NUM_TOPICS, id2word = dictionary, passes = 15)\n",
        "ldamodel.save('model5.gensim')"
      ],
      "execution_count": null,
      "outputs": []
    },
    {
      "cell_type": "code",
      "metadata": {
        "id": "6D73jg5aNdWo",
        "colab": {
          "base_uri": "https://localhost:8080/"
        },
        "outputId": "17513f31-5cc2-4cf9-aac7-ab075ac3f329"
      },
      "source": [
        "topics = ldamodel.print_topics(num_words = 4)\n",
        "for topic in topics:\n",
        "  print(topic)"
      ],
      "execution_count": null,
      "outputs": [
        {
          "output_type": "stream",
          "name": "stdout",
          "text": [
            "(0, '0.011*\"death\" + 0.009*\"three\" + 0.006*\"beyond\" + 0.006*\"conan\"')\n",
            "(1, '0.011*\"journal\" + 0.005*\"international\" + 0.004*\"green\" + 0.004*\"double\"')\n",
            "(2, '0.017*\"black\" + 0.006*\"young\" + 0.004*\"nature\" + 0.004*\"world\"')\n",
            "(3, '0.008*\"blood\" + 0.008*\"little\" + 0.006*\"white\" + 0.006*\"first\"')\n",
            "(4, '0.011*\"american\" + 0.007*\"night\" + 0.006*\"dragon\" + 0.006*\"tales\"')\n"
          ]
        }
      ]
    },
    {
      "cell_type": "code",
      "metadata": {
        "id": "kQ0Y88Nwb0WL"
      },
      "source": [
        "dictionary = gensim.corpora.Dictionary.load('dictionary.gensim')\n",
        "corpus = pickle.load(open('corpus1.pkl', 'rb'))\n",
        "lda = gensim.models.ldamodel.LdaModel.load('model5.gensim')"
      ],
      "execution_count": null,
      "outputs": []
    },
    {
      "cell_type": "code",
      "metadata": {
        "colab": {
          "base_uri": "https://localhost:8080/",
          "height": 861
        },
        "id": "yu9H45Wzaxyk",
        "outputId": "f264473a-3333-4b46-c69b-bfeb29976a61"
      },
      "source": [
        "lda_display = pyLDAvis.gensim_models.prepare(lda, corpus, dictionary, sort_topics = False)\n",
        "pyLDAvis.display(lda_display)"
      ],
      "execution_count": null,
      "outputs": [
        {
          "output_type": "execute_result",
          "data": {
            "text/html": [
              "\n",
              "<link rel=\"stylesheet\" type=\"text/css\" href=\"https://cdn.jsdelivr.net/gh/bmabey/pyLDAvis@3.3.1/pyLDAvis/js/ldavis.v1.0.0.css\">\n",
              "\n",
              "\n",
              "<div id=\"ldavis_el1841400929254221608600260370\"></div>\n",
              "<script type=\"text/javascript\">\n",
              "\n",
              "var ldavis_el1841400929254221608600260370_data = {\"mdsDat\": {\"x\": [-0.25325863829381506, 0.04469572376532519, 0.08836477608899314, 0.10435356462088574, 0.015844573818611256], \"y\": [-0.009933654507904358, 0.03567594408250459, 0.19967614772326536, -0.20543703871156382, -0.019981398586301796], \"topics\": [1, 2, 3, 4, 5], \"cluster\": [1, 1, 1, 1, 1], \"Freq\": [19.78122538322893, 19.795127964789273, 19.80111160133646, 20.149302694087027, 20.473232356558313]}, \"tinfo\": {\"Term\": [\"black\", \"death\", \"american\", \"journal\", \"three\", \"blood\", \"little\", \"night\", \"dragon\", \"tales\", \"white\", \"beyond\", \"conan\", \"first\", \"young\", \"international\", \"children\", \"house\", \"bulbophyllum\", \"nature\", \"ghost\", \"world\", \"murder\", \"green\", \"return\", \"strange\", \"double\", \"angel\", \"batman\", \"clinical\", \"three\", \"death\", \"conan\", \"children\", \"house\", \"ghost\", \"superman\", \"doctor\", \"journey\", \"modern\", \"spider\", \"great\", \"escape\", \"beyond\", \"beautiful\", \"tarzan\", \"earth\", \"history\", \"power\", \"letters\", \"monthly\", \"empire\", \"confessions\", \"saint\", \"dream\", \"shadows\", \"transformers\", \"critical\", \"behind\", \"naked\", \"advances\", \"international\", \"green\", \"double\", \"national\", \"shadow\", \"midnight\", \"another\", \"clinical\", \"african\", \"global\", \"hollywood\", \"welcome\", \"ultimate\", \"princess\", \"monster\", \"irish\", \"devil\", \"father\", \"private\", \"language\", \"vampire\", \"dance\", \"girls\", \"animal\", \"going\", \"yellow\", \"eight\", \"david\", \"deadly\", \"current\", \"family\", \"studies\", \"journal\", \"heroes\", \"black\", \"young\", \"nature\", \"world\", \"batman\", \"sharpe\", \"super\", \"human\", \"business\", \"queen\", \"woman\", \"music\", \"heart\", \"european\", \"every\", \"state\", \"uncle\", \"lucky\", \"alice\", \"looking\", \"twilight\", \"adventures\", \"street\", \"london\", \"stone\", \"killer\", \"waiting\", \"things\", \"player\", \"indian\", \"something\", \"getting\", \"songs\", \"marvel\", \"perfect\", \"expert\", \"daily\", \"blood\", \"little\", \"white\", \"first\", \"murder\", \"angel\", \"magic\", \"people\", \"social\", \"flight\", \"battle\", \"philosophy\", \"johnny\", \"william\", \"tokyo\", \"molecular\", \"broken\", \"america\", \"inside\", \"notes\", \"nothing\", \"billy\", \"forbidden\", \"diario\", \"prince\", \"computer\", \"blind\", \"grand\", \"storm\", \"operation\", \"bulbophyllum\", \"everything\", \"annals\", \"american\", \"dragon\", \"tales\", \"night\", \"return\", \"science\", \"never\", \"summer\", \"captain\", \"women\", \"living\", \"seven\", \"second\", \"happy\", \"secret\", \"child\", \"space\", \"sweet\", \"master\", \"diary\", \"silent\", \"killing\", \"christmas\", \"crazy\", \"running\", \"freedom\", \"australian\", \"peter\", \"strange\", \"mother\", \"weekly\"], \"Freq\": [1193.0, 745.0, 759.0, 782.0, 644.0, 565.0, 544.0, 516.0, 455.0, 451.0, 440.0, 434.0, 426.0, 414.0, 400.0, 376.0, 336.0, 316.0, 326.0, 297.0, 284.0, 284.0, 282.0, 278.0, 277.0, 271.0, 251.0, 250.0, 246.0, 237.0, 644.010194946653, 744.6394771068271, 425.7463088654699, 335.78882157175536, 315.8678344241348, 283.3618379490716, 235.08588079804514, 212.01127386596784, 207.87219762519533, 197.32595178893644, 196.67764778533208, 196.37994223323759, 190.9634006320664, 433.17034604345923, 190.12479994250884, 192.99139141178674, 182.5878800243112, 180.42990064792295, 172.39183482894686, 169.85033419452336, 201.12485221632093, 161.7194034655027, 159.140731407182, 148.806327679803, 139.67830851207404, 138.60557240675305, 137.37584432019497, 135.79554960697624, 133.36981981782847, 133.31940925665282, 171.66007015824454, 376.0404647448072, 277.7439998733077, 251.02515676099074, 231.61673067871055, 214.22608052500726, 208.91812091252038, 203.9182194230349, 236.95352794553196, 181.70244530274826, 181.85717500300694, 164.5193116102749, 163.5042293624215, 165.44815159646305, 158.76053872784627, 150.67206235706223, 144.8525568332024, 143.75540430901546, 136.27452505388146, 128.49778515957829, 128.71390036920175, 131.64476783552016, 124.80326921787587, 124.69299823153322, 122.11311097394716, 121.85495743884434, 118.75341277871891, 115.72449569530232, 113.3678813091969, 116.25024546513268, 159.91839204624813, 162.95580437460532, 133.64849914172098, 757.6564216423963, 119.18324669494132, 1193.2768044148713, 399.5983170625241, 296.85056878490224, 283.5223346703766, 245.56098785265056, 195.82269181835952, 197.05056604625628, 191.2103147340543, 180.95685531993865, 177.9158488731011, 169.6745154476814, 166.4945972369733, 159.38348088725564, 158.69796941131298, 149.8427546214201, 143.25154194934655, 142.02922674055205, 138.98160999879346, 127.48762919011288, 124.58149665229652, 123.25952527440948, 125.01536296122754, 121.73910965730894, 118.30635164797698, 115.43185295525255, 102.35180754027382, 101.96749455061826, 101.82080971705744, 100.90833416321188, 94.41970052557542, 220.78585734338782, 124.19860129215412, 127.33343410581651, 187.85147256467658, 111.52185554525474, 128.15814405721665, 142.0895158159161, 564.4742575239536, 544.151374864304, 439.56944206686995, 414.22619924685756, 281.78659691867335, 249.87718799874392, 223.82026811755384, 204.06247907514884, 198.55331877093437, 195.46913039104263, 183.74351887578413, 185.14114658424478, 153.59973575649988, 150.9457375353762, 149.18781077867868, 175.9406593986829, 143.50210734461598, 141.00516962002456, 226.64847544257108, 136.92842049440057, 134.02070230604596, 128.47538080804784, 127.6657250337416, 127.89978407400723, 124.17256343935018, 124.10712967005186, 123.74294868281399, 119.4413307441208, 117.42745534957592, 119.6214478512121, 321.8006840469659, 159.39419831664426, 125.61135266803203, 758.6214556106, 455.19268238691956, 451.06269593551275, 515.342275949408, 277.0835663958026, 241.67561737831932, 237.3156236263353, 225.15250950755464, 218.08842305212139, 207.23101126789334, 197.6175262644112, 187.94256215072892, 177.4939461000629, 177.5443744513709, 173.14668295407537, 170.70617802420034, 158.09508820851286, 157.78313071978786, 141.0430261289598, 136.15680380245965, 130.35432369509073, 131.2285111874499, 127.7313165526032, 126.12771309700726, 120.05547754213696, 120.0840596465442, 119.32777436418304, 118.2101078562336, 269.5924199868202, 109.67616341906862, 147.9224940938109], \"Total\": [1193.0, 745.0, 759.0, 782.0, 644.0, 565.0, 544.0, 516.0, 455.0, 451.0, 440.0, 434.0, 426.0, 414.0, 400.0, 376.0, 336.0, 316.0, 326.0, 297.0, 284.0, 284.0, 282.0, 278.0, 277.0, 271.0, 251.0, 250.0, 246.0, 237.0, 644.6826033910304, 745.7552246196844, 426.4869338358296, 336.46125345801505, 316.54023398282516, 284.03466292884366, 235.77564227397278, 212.6838127612538, 208.56061183185824, 197.9987145824153, 197.35027745785368, 197.05235326106646, 191.64926880451068, 434.73241624806286, 190.82419928262968, 193.7118617333136, 183.27432649389837, 181.11646807723432, 173.06431941578245, 170.53717747468113, 201.94495759919093, 162.39189200396416, 159.8447332429922, 149.47874857183754, 140.351909054427, 139.27894759845188, 138.06344255308653, 136.49394495148272, 134.05656420300545, 134.00593567233628, 172.62678398675868, 376.71238185588396, 278.4155920399556, 251.6966894427925, 232.28830890129797, 214.89777356589795, 209.59269287087315, 204.58988169723673, 237.74046724910104, 182.37414634977395, 182.52962357191214, 165.19091196474986, 164.1794771423217, 166.13411246295342, 159.43217789713856, 151.3563810894581, 145.52515922917752, 144.4269357626186, 136.94613750532676, 129.17035201838146, 129.40194010266683, 132.34946294595179, 125.47728819912852, 125.36749054679387, 122.78475360964525, 122.53295589543944, 119.42495214004006, 116.39799937520083, 114.03938729160122, 116.93902913897807, 160.88605136317048, 164.12759769212428, 134.46832453481673, 782.0166017545091, 120.32855945619917, 1193.947832218453, 400.2693730911103, 297.5480743859437, 284.1934484120964, 246.2328720669829, 196.49409917773306, 197.7344380334334, 191.89587285255922, 181.6301104060905, 178.58694428281083, 170.34790780580354, 167.1656747974821, 160.05454632095902, 159.3701970180141, 150.5174269236602, 143.92262229664055, 142.7032287227944, 139.65395683324397, 128.15884798749164, 125.25338197294626, 123.9330721121038, 125.69906375738718, 122.41018624984753, 118.9774271306134, 116.10291824560628, 103.02310778981284, 102.65297048401338, 102.50719054181357, 101.60156708608783, 95.090820779185, 222.75689676074873, 125.52920763444074, 128.85945354799364, 193.80433138989036, 112.6285708547607, 133.67107345789094, 159.42941300173285, 565.1437299815448, 544.8194238716783, 440.23749886973746, 414.89426503588464, 282.4684033413823, 250.5452981387268, 224.48920648615922, 204.73083257861015, 199.22222594864024, 196.15092987559024, 184.41170685061894, 185.82289520151608, 154.26795840324945, 151.6139627530297, 149.8559976972425, 176.75845362067275, 144.17039182627474, 141.67489387990128, 227.76343840899048, 137.61163777868947, 134.70247388235458, 129.14360248276463, 128.33394402568783, 128.5873004144548, 124.84065820879391, 124.79070377395803, 124.43138805301089, 120.10937324332626, 118.09564623877367, 120.3038861592357, 326.7793701233926, 161.34738762847374, 131.24496071801744, 759.2860811407933, 455.8580344976034, 451.7405113547578, 516.4486639503683, 277.7683425923745, 242.34095024000777, 237.9802623823462, 225.82044297520812, 218.75303983513834, 207.89767049374257, 198.28579453638363, 188.60715566246066, 178.15862517044357, 178.21069497802372, 173.81328105336362, 171.37223517098641, 158.7604535660416, 158.44800879329762, 141.70793110767127, 136.84073572651428, 131.0189547995486, 131.9065689106264, 128.39786189784286, 126.79509270057261, 120.72023982178568, 120.7493808196381, 119.99275158949338, 118.87474322646611, 271.128078099859, 110.34083455608653, 157.63943247608603], \"Category\": [\"Default\", \"Default\", \"Default\", \"Default\", \"Default\", \"Default\", \"Default\", \"Default\", \"Default\", \"Default\", \"Default\", \"Default\", \"Default\", \"Default\", \"Default\", \"Default\", \"Default\", \"Default\", \"Default\", \"Default\", \"Default\", \"Default\", \"Default\", \"Default\", \"Default\", \"Default\", \"Default\", \"Default\", \"Default\", \"Default\", \"Topic1\", \"Topic1\", \"Topic1\", \"Topic1\", \"Topic1\", \"Topic1\", \"Topic1\", \"Topic1\", \"Topic1\", \"Topic1\", \"Topic1\", \"Topic1\", \"Topic1\", \"Topic1\", \"Topic1\", \"Topic1\", \"Topic1\", \"Topic1\", \"Topic1\", \"Topic1\", \"Topic1\", \"Topic1\", \"Topic1\", \"Topic1\", \"Topic1\", \"Topic1\", \"Topic1\", \"Topic1\", \"Topic1\", \"Topic1\", \"Topic1\", \"Topic2\", \"Topic2\", \"Topic2\", \"Topic2\", \"Topic2\", \"Topic2\", \"Topic2\", \"Topic2\", \"Topic2\", \"Topic2\", \"Topic2\", \"Topic2\", \"Topic2\", \"Topic2\", \"Topic2\", \"Topic2\", \"Topic2\", \"Topic2\", \"Topic2\", \"Topic2\", \"Topic2\", \"Topic2\", \"Topic2\", \"Topic2\", \"Topic2\", \"Topic2\", \"Topic2\", \"Topic2\", \"Topic2\", \"Topic2\", \"Topic2\", \"Topic2\", \"Topic2\", \"Topic2\", \"Topic3\", \"Topic3\", \"Topic3\", \"Topic3\", \"Topic3\", \"Topic3\", \"Topic3\", \"Topic3\", \"Topic3\", \"Topic3\", \"Topic3\", \"Topic3\", \"Topic3\", \"Topic3\", \"Topic3\", \"Topic3\", \"Topic3\", \"Topic3\", \"Topic3\", \"Topic3\", \"Topic3\", \"Topic3\", \"Topic3\", \"Topic3\", \"Topic3\", \"Topic3\", \"Topic3\", \"Topic3\", \"Topic3\", \"Topic3\", \"Topic3\", \"Topic3\", \"Topic3\", \"Topic3\", \"Topic3\", \"Topic3\", \"Topic3\", \"Topic4\", \"Topic4\", \"Topic4\", \"Topic4\", \"Topic4\", \"Topic4\", \"Topic4\", \"Topic4\", \"Topic4\", \"Topic4\", \"Topic4\", \"Topic4\", \"Topic4\", \"Topic4\", \"Topic4\", \"Topic4\", \"Topic4\", \"Topic4\", \"Topic4\", \"Topic4\", \"Topic4\", \"Topic4\", \"Topic4\", \"Topic4\", \"Topic4\", \"Topic4\", \"Topic4\", \"Topic4\", \"Topic4\", \"Topic4\", \"Topic4\", \"Topic4\", \"Topic4\", \"Topic5\", \"Topic5\", \"Topic5\", \"Topic5\", \"Topic5\", \"Topic5\", \"Topic5\", \"Topic5\", \"Topic5\", \"Topic5\", \"Topic5\", \"Topic5\", \"Topic5\", \"Topic5\", \"Topic5\", \"Topic5\", \"Topic5\", \"Topic5\", \"Topic5\", \"Topic5\", \"Topic5\", \"Topic5\", \"Topic5\", \"Topic5\", \"Topic5\", \"Topic5\", \"Topic5\", \"Topic5\", \"Topic5\", \"Topic5\", \"Topic5\"], \"logprob\": [30.0, 29.0, 28.0, 27.0, 26.0, 25.0, 24.0, 23.0, 22.0, 21.0, 20.0, 19.0, 18.0, 17.0, 16.0, 15.0, 14.0, 13.0, 12.0, 11.0, 10.0, 9.0, 8.0, 7.0, 6.0, 5.0, 4.0, 3.0, 2.0, 1.0, -4.6646, -4.5194, -5.0785, -5.3158, -5.377, -5.4856, -5.6723, -5.7757, -5.7954, -5.8474, -5.8507, -5.8522, -5.8802, -5.0612, -5.8846, -5.8697, -5.9251, -5.937, -5.9825, -5.9974, -5.8284, -6.0464, -6.0625, -6.1297, -6.193, -6.2007, -6.2096, -6.2211, -6.2392, -6.2396, -5.9868, -5.2033, -5.5063, -5.6074, -5.6879, -5.766, -5.7911, -5.8153, -5.6651, -5.9306, -5.9298, -6.03, -6.0362, -6.0243, -6.0656, -6.1179, -6.1573, -6.1649, -6.2183, -6.2771, -6.2754, -6.2529, -6.3063, -6.3071, -6.3281, -6.3302, -6.356, -6.3818, -6.4024, -6.3773, -6.0583, -6.0395, -6.2378, -4.5028, -6.3523, -4.0488, -5.1428, -5.4401, -5.486, -5.6298, -5.8561, -5.8498, -5.8799, -5.935, -5.952, -5.9994, -6.0183, -6.062, -6.0663, -6.1237, -6.1687, -6.1773, -6.199, -6.2853, -6.3083, -6.319, -6.3049, -6.3314, -6.36, -6.3846, -6.5049, -6.5087, -6.5101, -6.5191, -6.5856, -5.7361, -6.3114, -6.2865, -5.8977, -6.4191, -6.28, -6.1768, -4.8148, -4.8515, -5.0649, -5.1243, -5.5096, -5.6298, -5.7399, -5.8323, -5.8597, -5.8753, -5.9372, -5.9296, -6.1164, -6.1338, -6.1455, -5.9806, -6.1844, -6.2019, -5.7273, -6.2313, -6.2527, -6.295, -6.3013, -6.2995, -6.3291, -6.3296, -6.3325, -6.3679, -6.3849, -6.3664, -5.3768, -6.0794, -6.3175, -4.5352, -5.046, -5.0551, -4.9219, -5.5424, -5.6791, -5.6973, -5.7499, -5.7818, -5.8329, -5.8804, -5.9305, -5.9877, -5.9875, -6.0125, -6.0267, -6.1035, -6.1055, -6.2176, -6.2529, -6.2964, -6.2897, -6.3168, -6.3294, -6.3787, -6.3785, -6.3848, -6.3942, -5.5698, -6.4692, -6.17], \"loglift\": [30.0, 29.0, 28.0, 27.0, 26.0, 25.0, 24.0, 23.0, 22.0, 21.0, 20.0, 19.0, 18.0, 17.0, 16.0, 15.0, 14.0, 13.0, 12.0, 11.0, 10.0, 9.0, 8.0, 7.0, 6.0, 5.0, 4.0, 3.0, 2.0, 1.0, 1.6194, 1.6189, 1.6187, 1.6184, 1.6183, 1.6181, 1.6175, 1.6173, 1.6171, 1.617, 1.617, 1.617, 1.6169, 1.6168, 1.6168, 1.6167, 1.6167, 1.6166, 1.6165, 1.6164, 1.6164, 1.6163, 1.616, 1.6159, 1.6156, 1.6156, 1.6154, 1.6153, 1.6153, 1.6153, 1.6148, 1.6179, 1.6173, 1.6171, 1.6168, 1.6166, 1.6165, 1.6164, 1.6164, 1.616, 1.616, 1.6157, 1.6156, 1.6156, 1.6155, 1.6152, 1.6151, 1.6151, 1.6148, 1.6145, 1.6144, 1.6144, 1.6143, 1.6143, 1.6142, 1.6142, 1.6141, 1.6139, 1.6138, 1.6138, 1.6137, 1.6126, 1.6136, 1.5881, 1.6102, 1.6189, 1.6178, 1.6171, 1.6171, 1.6167, 1.616, 1.616, 1.6159, 1.6157, 1.6157, 1.6155, 1.6154, 1.6152, 1.6152, 1.6149, 1.6148, 1.6147, 1.6146, 1.6142, 1.6141, 1.614, 1.614, 1.6139, 1.6138, 1.6136, 1.6129, 1.6127, 1.6127, 1.6126, 1.6123, 1.6105, 1.6088, 1.6075, 1.5882, 1.6096, 1.5773, 1.5043, 1.6008, 1.6008, 1.6005, 1.6004, 1.5996, 1.5993, 1.599, 1.5987, 1.5986, 1.5985, 1.5984, 1.5983, 1.5977, 1.5976, 1.5975, 1.5974, 1.5974, 1.5973, 1.5971, 1.597, 1.5969, 1.5968, 1.5968, 1.5966, 1.5966, 1.5965, 1.5965, 1.5964, 1.5963, 1.5963, 1.5866, 1.5898, 1.5581, 1.5852, 1.5846, 1.5846, 1.5839, 1.5836, 1.5833, 1.5833, 1.5831, 1.583, 1.5828, 1.5827, 1.5825, 1.5823, 1.5823, 1.5822, 1.5822, 1.5819, 1.5818, 1.5813, 1.581, 1.581, 1.5809, 1.5808, 1.5808, 1.5805, 1.5805, 1.5805, 1.5804, 1.5804, 1.58, 1.5224]}, \"token.table\": {\"Topic\": [1, 3, 2, 3, 4, 5, 4, 2, 2, 4, 2, 5, 3, 4, 1, 1, 1, 5, 4, 3, 4, 4, 4, 1, 2, 3, 4, 5, 3, 5, 5, 1, 5, 2, 4, 1, 1, 5, 1, 2, 3, 4, 2, 2, 2, 1, 5, 2, 4, 5, 1, 2, 5, 1, 1, 2, 1, 1, 3, 3, 3, 4, 2, 3, 2, 3, 2, 4, 4, 4, 5, 1, 3, 1, 2, 2, 2, 4, 1, 2, 5, 3, 2, 3, 1, 2, 1, 3, 3, 2, 4, 2, 2, 4, 2, 3, 4, 5, 1, 3, 5, 2, 1, 4, 5, 3, 3, 3, 4, 2, 3, 5, 2, 1, 4, 2, 1, 5, 4, 3, 1, 2, 3, 5, 4, 5, 4, 4, 4, 4, 3, 5, 5, 4, 3, 1, 4, 2, 2, 3, 5, 5, 1, 5, 5, 5, 5, 2, 1, 3, 5, 4, 2, 3, 5, 1, 3, 4, 5, 1, 3, 3, 4, 4, 5, 3, 2, 5, 3, 1, 5, 5, 1, 3, 1, 4, 1, 3, 2, 3, 2, 3, 1, 4, 5, 2, 4, 4, 3, 5, 3, 2, 3], \"Freq\": [0.9963691382514155, 0.9944385921701339, 0.9979484682600988, 0.9909577215643766, 0.9952363198487842, 0.9996232235149584, 0.9978235546913962, 0.9936087047733946, 0.03809670080013666, 0.9600368601634439, 0.9971167601626083, 0.9917265703441015, 0.9990542608506001, 0.9977674581638548, 0.995680845061957, 0.9921185194526881, 0.996014982588567, 0.002300265548703388, 0.9911447221482206, 0.9992061359861161, 0.9965331251241277, 0.997976213977315, 0.9988181219172931, 0.003060168699212554, 0.006120337398425108, 0.003060168699212554, 0.9853743211464423, 0.003060168699212554, 0.9965308042555187, 0.9965575800194326, 0.9978279143607188, 0.9986291037875106, 0.9969013354898432, 0.9968853966778605, 0.9936637606003866, 0.9988582678689589, 0.9947152888565427, 0.9937293101520086, 0.996381195139035, 0.9944926775462318, 0.8906763019848576, 0.10663026150522943, 0.9961962184075012, 0.9908857166257524, 0.9919699253030221, 0.9989873022745908, 0.0013409225533887123, 0.9970439325575645, 0.9954326717135996, 0.993856100509467, 0.9967848387125663, 0.9972320277857654, 0.9981177594060637, 0.9974926664211561, 0.9985031919137485, 0.9965807026122683, 0.9975867514127208, 0.9966122030699059, 0.9976771251781018, 0.9965623454091955, 0.006197807195382972, 0.9854513440658925, 0.03740525059503693, 0.9575744152329454, 0.9931297496095722, 0.006092820549751977, 0.993091170568502, 0.9978445953312772, 0.9941324271247645, 0.9973978511435682, 0.9937939158399707, 0.007966273497974631, 0.9878179137488543, 0.996357265278207, 0.9970686934452381, 0.9970984240171652, 0.9956505097624982, 0.9907636413930925, 0.9946595245189879, 0.9985072961003709, 0.9988177197892096, 0.9934113316666162, 0.988958901675518, 0.008310579005676623, 0.9938356346659862, 0.9988442949888757, 0.9982933165366445, 0.9953314636774521, 0.9885286427202259, 0.0043905203002964814, 0.9966481081673012, 0.9981089502490617, 0.9963912822225435, 0.9982630326736481, 0.9692888850433274, 0.0063937261546393636, 0.012787452309278727, 0.012787452309278727, 0.9973119956499255, 0.9900691426247772, 0.9931271890542416, 0.9968938633968862, 0.996850085813336, 0.9984959716269748, 0.9985586736707395, 0.991784768302811, 0.9979770448593477, 0.9953173053734179, 0.9978208017489278, 0.02579921699449087, 0.9700505589928567, 0.9950042943811425, 0.9971721682528393, 0.994955954211513, 0.9957090956322778, 0.9976454174783193, 0.995320717038816, 0.9969110750570471, 0.9983417496051188, 0.9930268292285824, 0.9924933498856653, 0.998758831631856, 0.9981580308087196, 0.9958809088933128, 0.0019363008751942514, 0.9971949507250395, 0.9955553339197, 0.994784996428736, 0.9974740121126804, 0.9964302759413166, 0.9944190816771415, 0.008878741800688764, 0.9926414711592718, 0.9955716156471264, 0.9940791554368633, 0.9938501510919449, 0.99326615046047, 0.9972892680584381, 0.9909394686931339, 0.9967133975825168, 0.997233872711326, 0.9940338105453655, 0.9967972131395825, 0.9985930968758268, 0.9934966652928808, 0.9953209498811892, 0.996780845030359, 0.9958223226281, 0.9979972019945462, 0.9974854248560099, 0.9922228443883747, 0.9988845323478238, 0.004489198828595851, 0.992112941119683, 0.004489198828595851, 0.007760392989929532, 0.9855699097210505, 0.007760392989929532, 0.9952100567303729, 0.9982250977177953, 0.9935894560429914, 0.9905005122845134, 0.9907223824614295, 0.0036882937651027447, 0.995839316577741, 0.9966490840148686, 0.996517212983527, 0.9963668347984854, 0.9962857353491998, 0.9967102527364914, 0.9971725186279743, 0.998360759471102, 0.9963251515578656, 0.9950521466920247, 0.9989411791361518, 0.9942878649477088, 0.9922974356323353, 0.9924711612792121, 0.9931735123741892, 0.9950720896150119, 0.9973595439061623, 0.9936390493043251, 0.031717952300789345, 0.031717952300789345, 0.9388513881033648, 0.9989068235235874, 0.9994605210361516, 0.9959504867369648, 0.9979576631713014, 0.9956821522260896, 0.9993193072775699, 0.9964416804660574, 0.9993270204786591], \"Term\": [\"advances\", \"adventures\", \"african\", \"alice\", \"america\", \"american\", \"angel\", \"animal\", \"annals\", \"annals\", \"another\", \"australian\", \"batman\", \"battle\", \"beautiful\", \"behind\", \"beyond\", \"beyond\", \"billy\", \"black\", \"blind\", \"blood\", \"broken\", \"bulbophyllum\", \"bulbophyllum\", \"bulbophyllum\", \"bulbophyllum\", \"bulbophyllum\", \"business\", \"captain\", \"child\", \"children\", \"christmas\", \"clinical\", \"computer\", \"conan\", \"confessions\", \"crazy\", \"critical\", \"current\", \"daily\", \"daily\", \"dance\", \"david\", \"deadly\", \"death\", \"death\", \"devil\", \"diario\", \"diary\", \"doctor\", \"double\", \"dragon\", \"dream\", \"earth\", \"eight\", \"empire\", \"escape\", \"european\", \"every\", \"everything\", \"everything\", \"expert\", \"expert\", \"family\", \"family\", \"father\", \"first\", \"flight\", \"forbidden\", \"freedom\", \"getting\", \"getting\", \"ghost\", \"girls\", \"global\", \"going\", \"grand\", \"great\", \"green\", \"happy\", \"heart\", \"heroes\", \"heroes\", \"history\", \"hollywood\", \"house\", \"human\", \"indian\", \"inside\", \"inside\", \"international\", \"irish\", \"johnny\", \"journal\", \"journal\", \"journal\", \"journal\", \"journey\", \"killer\", \"killing\", \"language\", \"letters\", \"little\", \"living\", \"london\", \"looking\", \"lucky\", \"magic\", \"marvel\", \"marvel\", \"master\", \"midnight\", \"modern\", \"molecular\", \"monster\", \"monthly\", \"mother\", \"murder\", \"music\", \"naked\", \"national\", \"nature\", \"never\", \"night\", \"night\", \"notes\", \"nothing\", \"operation\", \"people\", \"perfect\", \"perfect\", \"peter\", \"philosophy\", \"player\", \"power\", \"prince\", \"princess\", \"private\", \"queen\", \"return\", \"running\", \"saint\", \"science\", \"second\", \"secret\", \"seven\", \"shadow\", \"shadows\", \"sharpe\", \"silent\", \"social\", \"something\", \"something\", \"something\", \"songs\", \"songs\", \"songs\", \"space\", \"spider\", \"state\", \"stone\", \"storm\", \"strange\", \"strange\", \"street\", \"studies\", \"summer\", \"super\", \"superman\", \"sweet\", \"tales\", \"tarzan\", \"things\", \"three\", \"tokyo\", \"transformers\", \"twilight\", \"ultimate\", \"uncle\", \"vampire\", \"waiting\", \"weekly\", \"weekly\", \"weekly\", \"welcome\", \"white\", \"william\", \"woman\", \"women\", \"world\", \"yellow\", \"young\"]}, \"R\": 30, \"lambda.step\": 0.01, \"plot.opts\": {\"xlab\": \"PC1\", \"ylab\": \"PC2\"}, \"topic.order\": [1, 2, 3, 4, 5]};\n",
              "\n",
              "function LDAvis_load_lib(url, callback){\n",
              "  var s = document.createElement('script');\n",
              "  s.src = url;\n",
              "  s.async = true;\n",
              "  s.onreadystatechange = s.onload = callback;\n",
              "  s.onerror = function(){console.warn(\"failed to load library \" + url);};\n",
              "  document.getElementsByTagName(\"head\")[0].appendChild(s);\n",
              "}\n",
              "\n",
              "if(typeof(LDAvis) !== \"undefined\"){\n",
              "   // already loaded: just create the visualization\n",
              "   !function(LDAvis){\n",
              "       new LDAvis(\"#\" + \"ldavis_el1841400929254221608600260370\", ldavis_el1841400929254221608600260370_data);\n",
              "   }(LDAvis);\n",
              "}else if(typeof define === \"function\" && define.amd){\n",
              "   // require.js is available: use it to load d3/LDAvis\n",
              "   require.config({paths: {d3: \"https://d3js.org/d3.v5\"}});\n",
              "   require([\"d3\"], function(d3){\n",
              "      window.d3 = d3;\n",
              "      LDAvis_load_lib(\"https://cdn.jsdelivr.net/gh/bmabey/pyLDAvis@3.3.1/pyLDAvis/js/ldavis.v3.0.0.js\", function(){\n",
              "        new LDAvis(\"#\" + \"ldavis_el1841400929254221608600260370\", ldavis_el1841400929254221608600260370_data);\n",
              "      });\n",
              "    });\n",
              "}else{\n",
              "    // require.js not available: dynamically load d3 & LDAvis\n",
              "    LDAvis_load_lib(\"https://d3js.org/d3.v5.js\", function(){\n",
              "         LDAvis_load_lib(\"https://cdn.jsdelivr.net/gh/bmabey/pyLDAvis@3.3.1/pyLDAvis/js/ldavis.v3.0.0.js\", function(){\n",
              "                 new LDAvis(\"#\" + \"ldavis_el1841400929254221608600260370\", ldavis_el1841400929254221608600260370_data);\n",
              "            })\n",
              "         });\n",
              "}\n",
              "</script>"
            ],
            "text/plain": [
              "<IPython.core.display.HTML object>"
            ]
          },
          "metadata": {},
          "execution_count": 43
        }
      ]
    },
    {
      "cell_type": "code",
      "metadata": {
        "id": "t-e7tlgZ76rs"
      },
      "source": [
        "#text_data = prepare_text_for_lda(list(itertools.chain.from_iterable(df_tokenized['tokenized_sents_prep'].to_list())))"
      ],
      "execution_count": null,
      "outputs": []
    },
    {
      "cell_type": "markdown",
      "metadata": {
        "id": "tL7neLwmM7J2"
      },
      "source": [
        "# Task 1: Analyze the data sets and share relevant insights which influence your model design decisions\n",
        "* Please analyze the datasets and share your code with us.\n",
        "* What do you observe about the two dataframes? \n",
        "* Is the test dataset representative of the training dataset? If not, what * would have to change?\n",
        "* Based on your analysis, which model architecture are you preferring? In a few words, please explain why?\n",
        "\n",
        "### Tips:\n",
        "* You can use any 3rd party package which you think is useful\n"
      ]
    },
    {
      "cell_type": "code",
      "metadata": {
        "id": "bWVs_tFesBt0"
      },
      "source": [
        ""
      ],
      "execution_count": null,
      "outputs": []
    },
    {
      "cell_type": "code",
      "metadata": {
        "id": "-nYvxjhxsB01"
      },
      "source": [
        ""
      ],
      "execution_count": null,
      "outputs": []
    },
    {
      "cell_type": "code",
      "metadata": {
        "id": "UA1luDdIsB5R"
      },
      "source": [
        ""
      ],
      "execution_count": null,
      "outputs": []
    },
    {
      "cell_type": "markdown",
      "metadata": {
        "id": "TJlkSeUmRMQ6"
      },
      "source": [
        "# Task 2: Train a model to classify the content regarding the categories\n",
        "* Implement an ML model which can classify the given content feature (content only, not title) into one of the 14 categories\n",
        "* In a few words, please explain your rationality for your model architecture.\n",
        "* Please address the limitations of your chosen approach? Are there any major upsides/downsides to your approach?\n",
        "\n",
        "### Tips:\n",
        "* Enable the GPU support via Runtime >> Change Runtime Type >> Select GPU\n",
        "* If the training time exceeds your available time, downsample the dataset\n",
        "* You can test your machine learning model with the provided example string.\n",
        "* You can use an ML framework of your choice (e.g. Tensorflow, PyTorch, Scikit). Your choice of ML technique won't impact the exercise grading.\n",
        "* Implement the classification task by implementing an ML approach. The choice of ML approach won't impact the exercise grading. However, expect questions around your chosen ML approach in follow up conversations.\n",
        "* Applying transfer learning is totally ok. You can use pre-trained models from tf.hub, Pytorch.hub or huggingface. However, refrain from using fully trained (zero-shot learning) models. We are interested in your solution.\n",
        "* Time box this task! Don't spend no more than 2 hours on this task. In case, your model isn't converging - no worries. In such a case, explain to us why it might have happened. Not all ML experiments at Digits succeed. But it is critical to understand why a chosen path didn't succeed, so that we can avoid similar paths next time.\n"
      ]
    },
    {
      "cell_type": "code",
      "metadata": {
        "id": "-C2EVsQUsG0p"
      },
      "source": [
        ""
      ],
      "execution_count": null,
      "outputs": []
    },
    {
      "cell_type": "code",
      "metadata": {
        "id": "LU0ogJe5sG3d"
      },
      "source": [
        ""
      ],
      "execution_count": null,
      "outputs": []
    },
    {
      "cell_type": "code",
      "metadata": {
        "id": "4jT1c0N-sG6K"
      },
      "source": [
        ""
      ],
      "execution_count": null,
      "outputs": []
    },
    {
      "cell_type": "markdown",
      "metadata": {
        "id": "F7IM0hhosOf6"
      },
      "source": [
        "### Test your ML model\n",
        "\n",
        "Which category is your model predicting for the test string below?"
      ]
    },
    {
      "cell_type": "code",
      "metadata": {
        "id": "xai30ZLxCuQ0",
        "colab": {
          "base_uri": "https://localhost:8080/",
          "height": 231
        },
        "outputId": "132c4b49-2359-4081-d98b-658d561424fb"
      },
      "source": [
        "import numpy as np\n",
        "\n",
        "test_text = \"Digits is a fin-tech company offering a visual, machine learning-powered expense monitoring dashboard for startups and small businesses.\"\n",
        "\n",
        "# Adjust the model call depending on your ML framework\n",
        "rs = model.predict([test_text])\n",
        "\n",
        "print(np.argmax(rs))"
      ],
      "execution_count": null,
      "outputs": [
        {
          "output_type": "error",
          "ename": "NameError",
          "evalue": "ignored",
          "traceback": [
            "\u001b[0;31m---------------------------------------------------------------------------\u001b[0m",
            "\u001b[0;31mNameError\u001b[0m                                 Traceback (most recent call last)",
            "\u001b[0;32m<ipython-input-29-04d2adba4464>\u001b[0m in \u001b[0;36m<module>\u001b[0;34m()\u001b[0m\n\u001b[1;32m      4\u001b[0m \u001b[0;34m\u001b[0m\u001b[0m\n\u001b[1;32m      5\u001b[0m \u001b[0;31m# Adjust the model call depending on your ML framework\u001b[0m\u001b[0;34m\u001b[0m\u001b[0;34m\u001b[0m\u001b[0;34m\u001b[0m\u001b[0m\n\u001b[0;32m----> 6\u001b[0;31m \u001b[0mrs\u001b[0m \u001b[0;34m=\u001b[0m \u001b[0mmodel\u001b[0m\u001b[0;34m.\u001b[0m\u001b[0mpredict\u001b[0m\u001b[0;34m(\u001b[0m\u001b[0;34m[\u001b[0m\u001b[0mtest_text\u001b[0m\u001b[0;34m]\u001b[0m\u001b[0;34m)\u001b[0m\u001b[0;34m\u001b[0m\u001b[0;34m\u001b[0m\u001b[0m\n\u001b[0m\u001b[1;32m      7\u001b[0m \u001b[0;34m\u001b[0m\u001b[0m\n\u001b[1;32m      8\u001b[0m \u001b[0mprint\u001b[0m\u001b[0;34m(\u001b[0m\u001b[0mnp\u001b[0m\u001b[0;34m.\u001b[0m\u001b[0margmax\u001b[0m\u001b[0;34m(\u001b[0m\u001b[0mrs\u001b[0m\u001b[0;34m)\u001b[0m\u001b[0;34m)\u001b[0m\u001b[0;34m\u001b[0m\u001b[0;34m\u001b[0m\u001b[0m\n",
            "\u001b[0;31mNameError\u001b[0m: name 'model' is not defined"
          ]
        }
      ]
    },
    {
      "cell_type": "markdown",
      "metadata": {
        "id": "7mNzs0l9O4V-"
      },
      "source": [
        "# Task 3: Extract an Embedding\n",
        "* Update your ML model from task 2 to extract an embedding model for a provided content feature?\n",
        "* Which dimensionality of your embedding would you choose? Please explain why.\n",
        "\n",
        "### Tips:\n",
        "* We don’t anticipate that you train a new model for this task\n",
        "* Try to extract the embedding model from your previously trained ML model\n"
      ]
    },
    {
      "cell_type": "code",
      "metadata": {
        "id": "GEZYHI2xsfkh"
      },
      "source": [
        ""
      ],
      "execution_count": null,
      "outputs": []
    },
    {
      "cell_type": "code",
      "metadata": {
        "id": "kV2GMVk5sfna"
      },
      "source": [
        ""
      ],
      "execution_count": null,
      "outputs": []
    },
    {
      "cell_type": "code",
      "metadata": {
        "id": "CWWFHwn1sfqI"
      },
      "source": [
        ""
      ],
      "execution_count": null,
      "outputs": []
    },
    {
      "cell_type": "markdown",
      "metadata": {
        "id": "ICTDeE53Q0EX"
      },
      "source": [
        "# Task 4: Visualize your extracted embeddings\n",
        "* Visualize 1000 content feature samples from your test dataset with the extracted embedding model from Task 3?\n",
        "* What do you observe?\n",
        "* Share a screenshot of your visualization\n",
        "\n",
        "### Tips:\n",
        "* You can use any visualization of your choice (e.g. matplotlib, plotly, Tensorboard)\n",
        "* You can use any dimensionality reduction algorithm (e.g. PCA)\n"
      ]
    },
    {
      "cell_type": "code",
      "metadata": {
        "id": "YetmChpPssgd"
      },
      "source": [
        ""
      ],
      "execution_count": null,
      "outputs": []
    },
    {
      "cell_type": "code",
      "metadata": {
        "id": "ZzAgPerIssjU"
      },
      "source": [
        ""
      ],
      "execution_count": null,
      "outputs": []
    },
    {
      "cell_type": "code",
      "metadata": {
        "id": "R3Qm9f2xssmR"
      },
      "source": [
        ""
      ],
      "execution_count": null,
      "outputs": []
    }
  ]
}